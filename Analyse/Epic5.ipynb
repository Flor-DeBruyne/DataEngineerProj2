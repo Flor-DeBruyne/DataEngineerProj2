{
 "cells": [
  {
   "cell_type": "markdown",
   "metadata": {},
   "source": [
    "# Epic 5:\n",
    "\n",
    "Als een key user kan ik voor een campagne een lijst met contacten genereren volgens de waarschijnlijkheid om in te schrijven voor de campagne. Ik wil in de sortering ook ervoor zorgen dat contacten met weinig marketing pressure bevoordeeld worden ten opzichte van contacten met een hoge marketing pressure. "
   ]
  },
  {
   "cell_type": "code",
   "execution_count": 1,
   "metadata": {},
   "outputs": [],
   "source": [
    "# Importing the necessary packages\n",
    "import numpy as np                                  # \"Scientific computing\"\n",
    "import scipy.stats as stats                         # Statistical tests\n",
    "\n",
    "import pandas as pd                                 # Data Frame\n",
    "from pandas.api.types import CategoricalDtype\n",
    "\n",
    "import matplotlib.pyplot as plt                     # Basic visualisation\n",
    "from statsmodels.graphics.mosaicplot import mosaic  # Mosaic diagram\n",
    "import seaborn as sns   \n",
    "\n",
    "from sklearn.preprocessing import LabelEncoder\n",
    "from sklearn.metrics.pairwise import cosine_similarity\n",
    "\n",
    "from dotenv import load_dotenv\n",
    "import os\n",
    "from sqlalchemy import create_engine, MetaData, select\n",
    "import pandas as pd\n"
   ]
  },
  {
   "cell_type": "markdown",
   "metadata": {},
   "source": [
    "## Database connection"
   ]
  },
  {
   "cell_type": "code",
   "execution_count": 2,
   "metadata": {},
   "outputs": [],
   "source": [
    "load_dotenv()\n",
    "csv_dir =  '/home/flor/Workspace/DEP2/DataEngineerProj2/Data'\n",
    "SERVER = os.environ.get('SERVER')\n",
    "DATABASE = os.environ.get('DATAWAREHOUSE')\n",
    "UID = os.environ.get('USER')\n",
    "PWD = os.environ.get('PASSWORD')\n",
    "\n",
    "connection_string = f'mssql+pyodbc://{UID}:{PWD}@{SERVER}/{DATABASE}?driver=ODBC+Driver+17+for+SQL+Server'\n",
    "engine = create_engine(connection_string)\n",
    "\n",
    "metadata = MetaData()\n",
    "metadata.reflect(engine)"
   ]
  },
  {
   "cell_type": "markdown",
   "metadata": {},
   "source": [
    "### Creating DataFrame"
   ]
  },
  {
   "cell_type": "code",
   "execution_count": 3,
   "metadata": {},
   "outputs": [
    {
     "data": {
      "text/html": [
       "<div>\n",
       "<style scoped>\n",
       "    .dataframe tbody tr th:only-of-type {\n",
       "        vertical-align: middle;\n",
       "    }\n",
       "\n",
       "    .dataframe tbody tr th {\n",
       "        vertical-align: top;\n",
       "    }\n",
       "\n",
       "    .dataframe thead th {\n",
       "        text-align: right;\n",
       "    }\n",
       "</style>\n",
       "<table border=\"1\" class=\"dataframe\">\n",
       "  <thead>\n",
       "    <tr style=\"text-align: right;\">\n",
       "      <th></th>\n",
       "      <th>Customer_ID</th>\n",
       "      <th>Persoon_ID</th>\n",
       "      <th>Contact_ID</th>\n",
       "      <th>Inschrijving_ID</th>\n",
       "      <th>Campagne_ID</th>\n",
       "      <th>Mailing_ID</th>\n",
       "      <th>Visit_ID</th>\n",
       "      <th>Campagne_Nr</th>\n",
       "      <th>Eind_date_key</th>\n",
       "      <th>Naam_Campagne</th>\n",
       "      <th>...</th>\n",
       "      <th>IP_Adress</th>\n",
       "      <th>IP_Organization</th>\n",
       "      <th>Account_ID</th>\n",
       "      <th>Functie_title</th>\n",
       "      <th>Contact_status</th>\n",
       "      <th>Voka_medewerker</th>\n",
       "      <th>Inschrijving_status</th>\n",
       "      <th>Bron</th>\n",
       "      <th>Datum</th>\n",
       "      <th>Facturatie_bedrag</th>\n",
       "    </tr>\n",
       "  </thead>\n",
       "  <tbody>\n",
       "    <tr>\n",
       "      <th>0</th>\n",
       "      <td>E40F33E0-C268-E111-B43A-00505680000A</td>\n",
       "      <td>59586FD2-A913-E211-9DAA-005056B06EB4</td>\n",
       "      <td>90122280-58FD-E811-80F9-001DD8B72B61</td>\n",
       "      <td>1117EF05-AEE2-ED11-A7C7-6045BD895403</td>\n",
       "      <td>A2F63005-8EA8-ED11-AAD1-6045BD895D85</td>\n",
       "      <td>AD97B2C6-D6D9-ED11-A7C7-6045BD89520A</td>\n",
       "      <td>5DAB6B2C-9507-459C-8049-6B2BED9F7D78</td>\n",
       "      <td>23-OV-01-0056</td>\n",
       "      <td>20230525</td>\n",
       "      <td>OV-NW-Voka Bilan 2023</td>\n",
       "      <td>...</td>\n",
       "      <td>87.65.231.115</td>\n",
       "      <td>477664A5-4170-ED11-9561-6045BD8952CE</td>\n",
       "      <td>E40F33E0-C268-E111-B43A-00505680000A</td>\n",
       "      <td>Algemeen Directeur - CEO</td>\n",
       "      <td>Actief</td>\n",
       "      <td>0</td>\n",
       "      <td>Aanwezig</td>\n",
       "      <td>Website</td>\n",
       "      <td>2023-04-24</td>\n",
       "      <td>0</td>\n",
       "    </tr>\n",
       "    <tr>\n",
       "      <th>1</th>\n",
       "      <td>E40F33E0-C268-E111-B43A-00505680000A</td>\n",
       "      <td>59586FD2-A913-E211-9DAA-005056B06EB4</td>\n",
       "      <td>90122280-58FD-E811-80F9-001DD8B72B61</td>\n",
       "      <td>1117EF05-AEE2-ED11-A7C7-6045BD895403</td>\n",
       "      <td>A2F63005-8EA8-ED11-AAD1-6045BD895D85</td>\n",
       "      <td>AD97B2C6-D6D9-ED11-A7C7-6045BD89520A</td>\n",
       "      <td>5DAB6B2C-9507-459C-8049-6B2BED9F7D78</td>\n",
       "      <td>23-OV-01-0056</td>\n",
       "      <td>20230525</td>\n",
       "      <td>OV-NW-Voka Bilan 2023</td>\n",
       "      <td>...</td>\n",
       "      <td>87.65.231.115</td>\n",
       "      <td>477664A5-4170-ED11-9561-6045BD8952CE</td>\n",
       "      <td>E40F33E0-C268-E111-B43A-00505680000A</td>\n",
       "      <td>Algemeen Directeur - CEO</td>\n",
       "      <td>Actief</td>\n",
       "      <td>0</td>\n",
       "      <td>Aanwezig</td>\n",
       "      <td>Email</td>\n",
       "      <td>2023-09-28</td>\n",
       "      <td>0</td>\n",
       "    </tr>\n",
       "    <tr>\n",
       "      <th>2</th>\n",
       "      <td>E40F33E0-C268-E111-B43A-00505680000A</td>\n",
       "      <td>59586FD2-A913-E211-9DAA-005056B06EB4</td>\n",
       "      <td>90122280-58FD-E811-80F9-001DD8B72B61</td>\n",
       "      <td>1117EF05-AEE2-ED11-A7C7-6045BD895403</td>\n",
       "      <td>A2F63005-8EA8-ED11-AAD1-6045BD895D85</td>\n",
       "      <td>AD97B2C6-D6D9-ED11-A7C7-6045BD89520A</td>\n",
       "      <td>5DAB6B2C-9507-459C-8049-6B2BED9F7D78</td>\n",
       "      <td>23-OV-01-0056</td>\n",
       "      <td>20230525</td>\n",
       "      <td>OV-NW-Voka Bilan 2023</td>\n",
       "      <td>...</td>\n",
       "      <td>87.65.231.115</td>\n",
       "      <td>477664A5-4170-ED11-9561-6045BD8952CE</td>\n",
       "      <td>E40F33E0-C268-E111-B43A-00505680000A</td>\n",
       "      <td>Algemeen Directeur - CEO</td>\n",
       "      <td>Actief</td>\n",
       "      <td>0</td>\n",
       "      <td>Aanwezig</td>\n",
       "      <td>Website</td>\n",
       "      <td>2023-10-09</td>\n",
       "      <td>0</td>\n",
       "    </tr>\n",
       "    <tr>\n",
       "      <th>3</th>\n",
       "      <td>E40F33E0-C268-E111-B43A-00505680000A</td>\n",
       "      <td>59586FD2-A913-E211-9DAA-005056B06EB4</td>\n",
       "      <td>90122280-58FD-E811-80F9-001DD8B72B61</td>\n",
       "      <td>1117EF05-AEE2-ED11-A7C7-6045BD895403</td>\n",
       "      <td>A2F63005-8EA8-ED11-AAD1-6045BD895D85</td>\n",
       "      <td>AD97B2C6-D6D9-ED11-A7C7-6045BD89520A</td>\n",
       "      <td>5DAB6B2C-9507-459C-8049-6B2BED9F7D78</td>\n",
       "      <td>23-OV-01-0056</td>\n",
       "      <td>20230525</td>\n",
       "      <td>OV-NW-Voka Bilan 2023</td>\n",
       "      <td>...</td>\n",
       "      <td>87.65.231.115</td>\n",
       "      <td>477664A5-4170-ED11-9561-6045BD8952CE</td>\n",
       "      <td>E40F33E0-C268-E111-B43A-00505680000A</td>\n",
       "      <td>Algemeen Directeur - CEO</td>\n",
       "      <td>Actief</td>\n",
       "      <td>0</td>\n",
       "      <td>Aanwezig</td>\n",
       "      <td>Email</td>\n",
       "      <td>2022-12-15</td>\n",
       "      <td>70</td>\n",
       "    </tr>\n",
       "    <tr>\n",
       "      <th>4</th>\n",
       "      <td>E40F33E0-C268-E111-B43A-00505680000A</td>\n",
       "      <td>59586FD2-A913-E211-9DAA-005056B06EB4</td>\n",
       "      <td>90122280-58FD-E811-80F9-001DD8B72B61</td>\n",
       "      <td>1117EF05-AEE2-ED11-A7C7-6045BD895403</td>\n",
       "      <td>A2F63005-8EA8-ED11-AAD1-6045BD895D85</td>\n",
       "      <td>AD97B2C6-D6D9-ED11-A7C7-6045BD89520A</td>\n",
       "      <td>5DAB6B2C-9507-459C-8049-6B2BED9F7D78</td>\n",
       "      <td>23-OV-01-0056</td>\n",
       "      <td>20230525</td>\n",
       "      <td>OV-NW-Voka Bilan 2023</td>\n",
       "      <td>...</td>\n",
       "      <td>87.65.231.115</td>\n",
       "      <td>477664A5-4170-ED11-9561-6045BD8952CE</td>\n",
       "      <td>E40F33E0-C268-E111-B43A-00505680000A</td>\n",
       "      <td>Algemeen Directeur - CEO</td>\n",
       "      <td>Actief</td>\n",
       "      <td>0</td>\n",
       "      <td>Aanwezig</td>\n",
       "      <td>Email</td>\n",
       "      <td>2023-01-10</td>\n",
       "      <td>0</td>\n",
       "    </tr>\n",
       "  </tbody>\n",
       "</table>\n",
       "<p>5 rows × 32 columns</p>\n",
       "</div>"
      ],
      "text/plain": [
       "                            Customer_ID                            Persoon_ID  \\\n",
       "0  E40F33E0-C268-E111-B43A-00505680000A  59586FD2-A913-E211-9DAA-005056B06EB4   \n",
       "1  E40F33E0-C268-E111-B43A-00505680000A  59586FD2-A913-E211-9DAA-005056B06EB4   \n",
       "2  E40F33E0-C268-E111-B43A-00505680000A  59586FD2-A913-E211-9DAA-005056B06EB4   \n",
       "3  E40F33E0-C268-E111-B43A-00505680000A  59586FD2-A913-E211-9DAA-005056B06EB4   \n",
       "4  E40F33E0-C268-E111-B43A-00505680000A  59586FD2-A913-E211-9DAA-005056B06EB4   \n",
       "\n",
       "                             Contact_ID                       Inschrijving_ID  \\\n",
       "0  90122280-58FD-E811-80F9-001DD8B72B61  1117EF05-AEE2-ED11-A7C7-6045BD895403   \n",
       "1  90122280-58FD-E811-80F9-001DD8B72B61  1117EF05-AEE2-ED11-A7C7-6045BD895403   \n",
       "2  90122280-58FD-E811-80F9-001DD8B72B61  1117EF05-AEE2-ED11-A7C7-6045BD895403   \n",
       "3  90122280-58FD-E811-80F9-001DD8B72B61  1117EF05-AEE2-ED11-A7C7-6045BD895403   \n",
       "4  90122280-58FD-E811-80F9-001DD8B72B61  1117EF05-AEE2-ED11-A7C7-6045BD895403   \n",
       "\n",
       "                            Campagne_ID                            Mailing_ID  \\\n",
       "0  A2F63005-8EA8-ED11-AAD1-6045BD895D85  AD97B2C6-D6D9-ED11-A7C7-6045BD89520A   \n",
       "1  A2F63005-8EA8-ED11-AAD1-6045BD895D85  AD97B2C6-D6D9-ED11-A7C7-6045BD89520A   \n",
       "2  A2F63005-8EA8-ED11-AAD1-6045BD895D85  AD97B2C6-D6D9-ED11-A7C7-6045BD89520A   \n",
       "3  A2F63005-8EA8-ED11-AAD1-6045BD895D85  AD97B2C6-D6D9-ED11-A7C7-6045BD89520A   \n",
       "4  A2F63005-8EA8-ED11-AAD1-6045BD895D85  AD97B2C6-D6D9-ED11-A7C7-6045BD89520A   \n",
       "\n",
       "                               Visit_ID    Campagne_Nr  Eind_date_key  \\\n",
       "0  5DAB6B2C-9507-459C-8049-6B2BED9F7D78  23-OV-01-0056       20230525   \n",
       "1  5DAB6B2C-9507-459C-8049-6B2BED9F7D78  23-OV-01-0056       20230525   \n",
       "2  5DAB6B2C-9507-459C-8049-6B2BED9F7D78  23-OV-01-0056       20230525   \n",
       "3  5DAB6B2C-9507-459C-8049-6B2BED9F7D78  23-OV-01-0056       20230525   \n",
       "4  5DAB6B2C-9507-459C-8049-6B2BED9F7D78  23-OV-01-0056       20230525   \n",
       "\n",
       "           Naam_Campagne  ...      IP_Adress  \\\n",
       "0  OV-NW-Voka Bilan 2023  ...  87.65.231.115   \n",
       "1  OV-NW-Voka Bilan 2023  ...  87.65.231.115   \n",
       "2  OV-NW-Voka Bilan 2023  ...  87.65.231.115   \n",
       "3  OV-NW-Voka Bilan 2023  ...  87.65.231.115   \n",
       "4  OV-NW-Voka Bilan 2023  ...  87.65.231.115   \n",
       "\n",
       "                        IP_Organization                            Account_ID  \\\n",
       "0  477664A5-4170-ED11-9561-6045BD8952CE  E40F33E0-C268-E111-B43A-00505680000A   \n",
       "1  477664A5-4170-ED11-9561-6045BD8952CE  E40F33E0-C268-E111-B43A-00505680000A   \n",
       "2  477664A5-4170-ED11-9561-6045BD8952CE  E40F33E0-C268-E111-B43A-00505680000A   \n",
       "3  477664A5-4170-ED11-9561-6045BD8952CE  E40F33E0-C268-E111-B43A-00505680000A   \n",
       "4  477664A5-4170-ED11-9561-6045BD8952CE  E40F33E0-C268-E111-B43A-00505680000A   \n",
       "\n",
       "              Functie_title Contact_status Voka_medewerker  \\\n",
       "0  Algemeen Directeur - CEO         Actief               0   \n",
       "1  Algemeen Directeur - CEO         Actief               0   \n",
       "2  Algemeen Directeur - CEO         Actief               0   \n",
       "3  Algemeen Directeur - CEO         Actief               0   \n",
       "4  Algemeen Directeur - CEO         Actief               0   \n",
       "\n",
       "  Inschrijving_status     Bron       Datum Facturatie_bedrag  \n",
       "0            Aanwezig  Website  2023-04-24                 0  \n",
       "1            Aanwezig    Email  2023-09-28                 0  \n",
       "2            Aanwezig  Website  2023-10-09                 0  \n",
       "3            Aanwezig    Email  2022-12-15                70  \n",
       "4            Aanwezig    Email  2023-01-10                 0  \n",
       "\n",
       "[5 rows x 32 columns]"
      ]
     },
     "execution_count": 3,
     "metadata": {},
     "output_type": "execute_result"
    }
   ],
   "source": [
    "df_fact = pd.read_sql_table(table_name='FactCampagne', con=engine)\n",
    "df_mail = pd.read_sql_table(table_name='DimEmail', con=engine)\n",
    "df_cont = pd.read_sql_table(table_name='DimContact', con=engine)\n",
    "df_cust = pd.read_sql_table(table_name='DimCustomer', con=engine)\n",
    "df_final = pd.merge(df_fact, df_mail, on=\"Mailing_ID\", how=\"left\")\n",
    "\n",
    "df_final.drop([\"Visit_ID_y\",\n",
    "               \"Campagne_ID_y\",\n",
    "               \"Contact_ID_y\"], axis=1, inplace=True)\n",
    "df_final.rename(columns={\n",
    "    'Contact_ID_x': 'Contact_ID',\n",
    "    'Visit_ID_x': 'Visit_ID',\n",
    "    'Campagne_ID_x': 'Campagne_ID'\n",
    "}, inplace=True)\n",
    "\n",
    "df_cust.drop([\"Postcode\", \"Industriezone_Naam_\", \"Is_Voka_entiteit\", 'Oprichtingsdatum', \n",
    "              'Primaire_activiteit', 'Reden_van_status', 'Status', 'Voka_Nr_', \"Persoon_ID\", \"Persoonnr\", \"Status_Persoon\",\n",
    "              \"Lidmaatschap_ID\",'Opzeg', \"Reden_Aangroei\", \"Reden_Verloop\", \"Start_Datum\"], axis=1, inplace=True)\n",
    "\n",
    "\n",
    "# df_final = pd.merge(df_final, df_cust, how=\"left\")\n",
    "\n",
    "df_final = pd.merge(df_final, df_cont, on=\"Contact_ID\", how=\"left\")\n",
    "\n",
    "df_final.drop(['Persoon_ID_y', 'Inschrijving_ID_y'], axis=1, inplace=True)\n",
    "\n",
    "df_final.rename(columns={\n",
    "    'Persoon_ID_x': 'Persoon_ID',\n",
    "    'Inschrijving_ID_x': 'Inschrijving_ID',\n",
    "}, inplace=True)\n",
    "\n",
    "df_final.head()"
   ]
  },
  {
   "cell_type": "code",
   "execution_count": 4,
   "metadata": {},
   "outputs": [
    {
     "data": {
      "text/plain": [
       "Inschrijving_status\n",
       "Aanwezig    15315538\n",
       "Afwezig       378758\n",
       "Name: count, dtype: int64"
      ]
     },
     "execution_count": 4,
     "metadata": {},
     "output_type": "execute_result"
    }
   ],
   "source": [
    "df_final[\"Inschrijving_status\"].value_counts()"
   ]
  },
  {
   "cell_type": "code",
   "execution_count": 5,
   "metadata": {},
   "outputs": [
    {
     "data": {
      "text/html": [
       "<div>\n",
       "<style scoped>\n",
       "    .dataframe tbody tr th:only-of-type {\n",
       "        vertical-align: middle;\n",
       "    }\n",
       "\n",
       "    .dataframe tbody tr th {\n",
       "        vertical-align: top;\n",
       "    }\n",
       "\n",
       "    .dataframe thead th {\n",
       "        text-align: right;\n",
       "    }\n",
       "</style>\n",
       "<table border=\"1\" class=\"dataframe\">\n",
       "  <thead>\n",
       "    <tr style=\"text-align: right;\">\n",
       "      <th></th>\n",
       "      <th>Campagne_Nr</th>\n",
       "      <th>Eind_date_key</th>\n",
       "      <th>Naam_Campagne</th>\n",
       "      <th>Naam_in_email</th>\n",
       "      <th>Reden_van_status</th>\n",
       "      <th>Start_date_key</th>\n",
       "      <th>Status_Camp</th>\n",
       "      <th>Type_campagne</th>\n",
       "      <th>Soort_Campagne</th>\n",
       "      <th>Onderwerp_campagne</th>\n",
       "      <th>Mailing_Subject</th>\n",
       "      <th>IP_Stad</th>\n",
       "      <th>IP_Land</th>\n",
       "      <th>Functie_title</th>\n",
       "      <th>Contact_status</th>\n",
       "      <th>Voka_medewerker</th>\n",
       "      <th>Inschrijving_status</th>\n",
       "      <th>Bron</th>\n",
       "      <th>Facturatie_bedrag</th>\n",
       "    </tr>\n",
       "  </thead>\n",
       "  <tbody>\n",
       "    <tr>\n",
       "      <th>0</th>\n",
       "      <td>23-OV-01-0056</td>\n",
       "      <td>20230525</td>\n",
       "      <td>OV-NW-Voka Bilan 2023</td>\n",
       "      <td>Voka's statutaire jaarvergadering &amp; jaarfeest ...</td>\n",
       "      <td>Voltooid</td>\n",
       "      <td>20230525</td>\n",
       "      <td>Actief</td>\n",
       "      <td>Netwerkevenement</td>\n",
       "      <td>Offline</td>\n",
       "      <td>NW</td>\n",
       "      <td>Uitnodiging: Voka Jaarfeest 2023</td>\n",
       "      <td>Ghent</td>\n",
       "      <td>Belgium</td>\n",
       "      <td>Algemeen Directeur - CEO</td>\n",
       "      <td>Actief</td>\n",
       "      <td>0</td>\n",
       "      <td>Aanwezig</td>\n",
       "      <td>Website</td>\n",
       "      <td>0</td>\n",
       "    </tr>\n",
       "    <tr>\n",
       "      <th>1</th>\n",
       "      <td>23-OV-01-0056</td>\n",
       "      <td>20230525</td>\n",
       "      <td>OV-NW-Voka Bilan 2023</td>\n",
       "      <td>Voka's statutaire jaarvergadering &amp; jaarfeest ...</td>\n",
       "      <td>Voltooid</td>\n",
       "      <td>20230525</td>\n",
       "      <td>Actief</td>\n",
       "      <td>Netwerkevenement</td>\n",
       "      <td>Offline</td>\n",
       "      <td>NW</td>\n",
       "      <td>Uitnodiging: Voka Jaarfeest 2023</td>\n",
       "      <td>Ghent</td>\n",
       "      <td>Belgium</td>\n",
       "      <td>Algemeen Directeur - CEO</td>\n",
       "      <td>Actief</td>\n",
       "      <td>0</td>\n",
       "      <td>Aanwezig</td>\n",
       "      <td>Email</td>\n",
       "      <td>0</td>\n",
       "    </tr>\n",
       "    <tr>\n",
       "      <th>2</th>\n",
       "      <td>23-OV-01-0056</td>\n",
       "      <td>20230525</td>\n",
       "      <td>OV-NW-Voka Bilan 2023</td>\n",
       "      <td>Voka's statutaire jaarvergadering &amp; jaarfeest ...</td>\n",
       "      <td>Voltooid</td>\n",
       "      <td>20230525</td>\n",
       "      <td>Actief</td>\n",
       "      <td>Netwerkevenement</td>\n",
       "      <td>Offline</td>\n",
       "      <td>NW</td>\n",
       "      <td>Uitnodiging: Voka Jaarfeest 2023</td>\n",
       "      <td>Ghent</td>\n",
       "      <td>Belgium</td>\n",
       "      <td>Algemeen Directeur - CEO</td>\n",
       "      <td>Actief</td>\n",
       "      <td>0</td>\n",
       "      <td>Aanwezig</td>\n",
       "      <td>Website</td>\n",
       "      <td>0</td>\n",
       "    </tr>\n",
       "    <tr>\n",
       "      <th>3</th>\n",
       "      <td>23-OV-01-0056</td>\n",
       "      <td>20230525</td>\n",
       "      <td>OV-NW-Voka Bilan 2023</td>\n",
       "      <td>Voka's statutaire jaarvergadering &amp; jaarfeest ...</td>\n",
       "      <td>Voltooid</td>\n",
       "      <td>20230525</td>\n",
       "      <td>Actief</td>\n",
       "      <td>Netwerkevenement</td>\n",
       "      <td>Offline</td>\n",
       "      <td>NW</td>\n",
       "      <td>Uitnodiging: Voka Jaarfeest 2023</td>\n",
       "      <td>Ghent</td>\n",
       "      <td>Belgium</td>\n",
       "      <td>Algemeen Directeur - CEO</td>\n",
       "      <td>Actief</td>\n",
       "      <td>0</td>\n",
       "      <td>Aanwezig</td>\n",
       "      <td>Email</td>\n",
       "      <td>70</td>\n",
       "    </tr>\n",
       "    <tr>\n",
       "      <th>4</th>\n",
       "      <td>23-OV-01-0056</td>\n",
       "      <td>20230525</td>\n",
       "      <td>OV-NW-Voka Bilan 2023</td>\n",
       "      <td>Voka's statutaire jaarvergadering &amp; jaarfeest ...</td>\n",
       "      <td>Voltooid</td>\n",
       "      <td>20230525</td>\n",
       "      <td>Actief</td>\n",
       "      <td>Netwerkevenement</td>\n",
       "      <td>Offline</td>\n",
       "      <td>NW</td>\n",
       "      <td>Uitnodiging: Voka Jaarfeest 2023</td>\n",
       "      <td>Ghent</td>\n",
       "      <td>Belgium</td>\n",
       "      <td>Algemeen Directeur - CEO</td>\n",
       "      <td>Actief</td>\n",
       "      <td>0</td>\n",
       "      <td>Aanwezig</td>\n",
       "      <td>Email</td>\n",
       "      <td>0</td>\n",
       "    </tr>\n",
       "  </tbody>\n",
       "</table>\n",
       "</div>"
      ],
      "text/plain": [
       "     Campagne_Nr  Eind_date_key          Naam_Campagne  \\\n",
       "0  23-OV-01-0056       20230525  OV-NW-Voka Bilan 2023   \n",
       "1  23-OV-01-0056       20230525  OV-NW-Voka Bilan 2023   \n",
       "2  23-OV-01-0056       20230525  OV-NW-Voka Bilan 2023   \n",
       "3  23-OV-01-0056       20230525  OV-NW-Voka Bilan 2023   \n",
       "4  23-OV-01-0056       20230525  OV-NW-Voka Bilan 2023   \n",
       "\n",
       "                                       Naam_in_email Reden_van_status  \\\n",
       "0  Voka's statutaire jaarvergadering & jaarfeest ...         Voltooid   \n",
       "1  Voka's statutaire jaarvergadering & jaarfeest ...         Voltooid   \n",
       "2  Voka's statutaire jaarvergadering & jaarfeest ...         Voltooid   \n",
       "3  Voka's statutaire jaarvergadering & jaarfeest ...         Voltooid   \n",
       "4  Voka's statutaire jaarvergadering & jaarfeest ...         Voltooid   \n",
       "\n",
       "   Start_date_key Status_Camp     Type_campagne Soort_Campagne  \\\n",
       "0        20230525      Actief  Netwerkevenement        Offline   \n",
       "1        20230525      Actief  Netwerkevenement        Offline   \n",
       "2        20230525      Actief  Netwerkevenement        Offline   \n",
       "3        20230525      Actief  Netwerkevenement        Offline   \n",
       "4        20230525      Actief  Netwerkevenement        Offline   \n",
       "\n",
       "  Onderwerp_campagne                   Mailing_Subject IP_Stad  IP_Land  \\\n",
       "0                 NW  Uitnodiging: Voka Jaarfeest 2023   Ghent  Belgium   \n",
       "1                 NW  Uitnodiging: Voka Jaarfeest 2023   Ghent  Belgium   \n",
       "2                 NW  Uitnodiging: Voka Jaarfeest 2023   Ghent  Belgium   \n",
       "3                 NW  Uitnodiging: Voka Jaarfeest 2023   Ghent  Belgium   \n",
       "4                 NW  Uitnodiging: Voka Jaarfeest 2023   Ghent  Belgium   \n",
       "\n",
       "              Functie_title Contact_status  Voka_medewerker  \\\n",
       "0  Algemeen Directeur - CEO         Actief                0   \n",
       "1  Algemeen Directeur - CEO         Actief                0   \n",
       "2  Algemeen Directeur - CEO         Actief                0   \n",
       "3  Algemeen Directeur - CEO         Actief                0   \n",
       "4  Algemeen Directeur - CEO         Actief                0   \n",
       "\n",
       "  Inschrijving_status     Bron Facturatie_bedrag  \n",
       "0            Aanwezig  Website                 0  \n",
       "1            Aanwezig    Email                 0  \n",
       "2            Aanwezig  Website                 0  \n",
       "3            Aanwezig    Email                70  \n",
       "4            Aanwezig    Email                 0  "
      ]
     },
     "execution_count": 5,
     "metadata": {},
     "output_type": "execute_result"
    }
   ],
   "source": [
    "id_columns = df_final[['Customer_ID', 'Persoon_ID', 'Contact_ID', 'Inschrijving_ID', 'Campagne_ID', 'Mailing_ID', 'Visit_ID', 'Account_ID']]\n",
    "df_final_strip = df_final.drop(id_columns, axis=1)\n",
    "\n",
    "# IP ORGANIZATION, MAILING NAME\n",
    "df_final_strip.drop(['IP_Organization', 'Mailing_Name', 'Mailing_Sent_On', 'Datum', 'IP_Adress'], axis=1, inplace=True)\n",
    "\n",
    "# df_final_strip['Mailing_Sent_On'] = pd.to_datetime(df_final_strip['Mailing_Sent_On'])\n",
    "# df_final_strip['Datum'] = pd.to_datetime(df_final_strip['Datum'])\n",
    "\n",
    "df_final_strip.head()"
   ]
  },
  {
   "cell_type": "code",
   "execution_count": 6,
   "metadata": {},
   "outputs": [
    {
     "name": "stdout",
     "output_type": "stream",
     "text": [
      "<class 'pandas.core.frame.DataFrame'>\n",
      "RangeIndex: 15694296 entries, 0 to 15694295\n",
      "Data columns (total 11 columns):\n",
      " #   Column               Dtype \n",
      "---  ------               ----- \n",
      " 0   Status_Camp          object\n",
      " 1   Type_campagne        object\n",
      " 2   Soort_Campagne       object\n",
      " 3   Onderwerp_campagne   object\n",
      " 4   IP_Stad              object\n",
      " 5   IP_Land              object\n",
      " 6   Functie_title        object\n",
      " 7   Contact_status       object\n",
      " 8   Inschrijving_status  object\n",
      " 9   Bron                 object\n",
      " 10  Facturatie_bedrag    object\n",
      "dtypes: object(11)\n",
      "memory usage: 1.3+ GB\n"
     ]
    }
   ],
   "source": [
    "# unsure about these parameters\n",
    "# Reden van status, Contact_status, Voka_medewerker, Bron\n",
    "df_final_strip.drop(['Naam_Campagne', 'Naam_in_email', 'Mailing_Subject', \"Reden_van_status\", \"Voka_medewerker\", \"Eind_date_key\", \"Start_date_key\", 'Campagne_Nr'], axis=1, inplace=True)\n",
    "df_final_strip.info()"
   ]
  },
  {
   "cell_type": "code",
   "execution_count": 7,
   "metadata": {},
   "outputs": [
    {
     "data": {
      "text/html": [
       "<div>\n",
       "<style scoped>\n",
       "    .dataframe tbody tr th:only-of-type {\n",
       "        vertical-align: middle;\n",
       "    }\n",
       "\n",
       "    .dataframe tbody tr th {\n",
       "        vertical-align: top;\n",
       "    }\n",
       "\n",
       "    .dataframe thead th {\n",
       "        text-align: right;\n",
       "    }\n",
       "</style>\n",
       "<table border=\"1\" class=\"dataframe\">\n",
       "  <thead>\n",
       "    <tr style=\"text-align: right;\">\n",
       "      <th></th>\n",
       "      <th>Status_Camp</th>\n",
       "      <th>Type_campagne</th>\n",
       "      <th>Soort_Campagne</th>\n",
       "      <th>Onderwerp_campagne</th>\n",
       "      <th>IP_Stad</th>\n",
       "      <th>IP_Land</th>\n",
       "      <th>Functie_title</th>\n",
       "      <th>Contact_status</th>\n",
       "      <th>Inschrijving_status</th>\n",
       "      <th>Bron</th>\n",
       "      <th>Facturatie_bedrag</th>\n",
       "    </tr>\n",
       "  </thead>\n",
       "  <tbody>\n",
       "    <tr>\n",
       "      <th>0</th>\n",
       "      <td>Actief</td>\n",
       "      <td>Netwerkevenement</td>\n",
       "      <td>Offline</td>\n",
       "      <td>NW</td>\n",
       "      <td>Ghent</td>\n",
       "      <td>Belgium</td>\n",
       "      <td>Algemeen Directeur - CEO</td>\n",
       "      <td>Actief</td>\n",
       "      <td>Aanwezig</td>\n",
       "      <td>Website</td>\n",
       "      <td>0</td>\n",
       "    </tr>\n",
       "    <tr>\n",
       "      <th>1</th>\n",
       "      <td>Actief</td>\n",
       "      <td>Netwerkevenement</td>\n",
       "      <td>Offline</td>\n",
       "      <td>NW</td>\n",
       "      <td>Ghent</td>\n",
       "      <td>Belgium</td>\n",
       "      <td>Algemeen Directeur - CEO</td>\n",
       "      <td>Actief</td>\n",
       "      <td>Aanwezig</td>\n",
       "      <td>Email</td>\n",
       "      <td>0</td>\n",
       "    </tr>\n",
       "    <tr>\n",
       "      <th>2</th>\n",
       "      <td>Actief</td>\n",
       "      <td>Netwerkevenement</td>\n",
       "      <td>Offline</td>\n",
       "      <td>NW</td>\n",
       "      <td>Ghent</td>\n",
       "      <td>Belgium</td>\n",
       "      <td>Algemeen Directeur - CEO</td>\n",
       "      <td>Actief</td>\n",
       "      <td>Aanwezig</td>\n",
       "      <td>Website</td>\n",
       "      <td>0</td>\n",
       "    </tr>\n",
       "    <tr>\n",
       "      <th>3</th>\n",
       "      <td>Actief</td>\n",
       "      <td>Netwerkevenement</td>\n",
       "      <td>Offline</td>\n",
       "      <td>NW</td>\n",
       "      <td>Ghent</td>\n",
       "      <td>Belgium</td>\n",
       "      <td>Algemeen Directeur - CEO</td>\n",
       "      <td>Actief</td>\n",
       "      <td>Aanwezig</td>\n",
       "      <td>Email</td>\n",
       "      <td>70</td>\n",
       "    </tr>\n",
       "    <tr>\n",
       "      <th>4</th>\n",
       "      <td>Actief</td>\n",
       "      <td>Netwerkevenement</td>\n",
       "      <td>Offline</td>\n",
       "      <td>NW</td>\n",
       "      <td>Ghent</td>\n",
       "      <td>Belgium</td>\n",
       "      <td>Algemeen Directeur - CEO</td>\n",
       "      <td>Actief</td>\n",
       "      <td>Aanwezig</td>\n",
       "      <td>Email</td>\n",
       "      <td>0</td>\n",
       "    </tr>\n",
       "  </tbody>\n",
       "</table>\n",
       "</div>"
      ],
      "text/plain": [
       "  Status_Camp     Type_campagne Soort_Campagne Onderwerp_campagne IP_Stad  \\\n",
       "0      Actief  Netwerkevenement        Offline                 NW   Ghent   \n",
       "1      Actief  Netwerkevenement        Offline                 NW   Ghent   \n",
       "2      Actief  Netwerkevenement        Offline                 NW   Ghent   \n",
       "3      Actief  Netwerkevenement        Offline                 NW   Ghent   \n",
       "4      Actief  Netwerkevenement        Offline                 NW   Ghent   \n",
       "\n",
       "   IP_Land             Functie_title Contact_status Inschrijving_status  \\\n",
       "0  Belgium  Algemeen Directeur - CEO         Actief            Aanwezig   \n",
       "1  Belgium  Algemeen Directeur - CEO         Actief            Aanwezig   \n",
       "2  Belgium  Algemeen Directeur - CEO         Actief            Aanwezig   \n",
       "3  Belgium  Algemeen Directeur - CEO         Actief            Aanwezig   \n",
       "4  Belgium  Algemeen Directeur - CEO         Actief            Aanwezig   \n",
       "\n",
       "      Bron Facturatie_bedrag  \n",
       "0  Website                 0  \n",
       "1    Email                 0  \n",
       "2  Website                 0  \n",
       "3    Email                70  \n",
       "4    Email                 0  "
      ]
     },
     "execution_count": 7,
     "metadata": {},
     "output_type": "execute_result"
    }
   ],
   "source": [
    "df_final_strip.head()"
   ]
  },
  {
   "cell_type": "code",
   "execution_count": 8,
   "metadata": {},
   "outputs": [],
   "source": [
    "df_final_strip[['Status_Camp', 'Type_campagne', 'Soort_Campagne', 'IP_Stad', 'IP_Land',\n",
    "      'Inschrijving_status',  'Onderwerp_campagne', 'Bron', 'Functie_title']] = df_final_strip[\n",
    "  ['Status_Camp', 'Type_campagne', 'Soort_Campagne', 'IP_Stad', 'IP_Land',\n",
    "      'Inschrijving_status',  'Onderwerp_campagne', 'Bron', 'Functie_title']].astype(str)"
   ]
  },
  {
   "cell_type": "code",
   "execution_count": 9,
   "metadata": {},
   "outputs": [],
   "source": [
    "df_final_strip[\"Facturatie_bedrag\"] = pd.to_numeric(df_final_strip[\"Facturatie_bedrag\"], errors=\"coerce\")\n",
    "\n",
    "# df_final_strip[\"Facturatie_bedrag\"] = df_final_strip[\"Facturatie_bedrag\"].astype(\"float64\")\n",
    "# df_final_strip['Facturatie_bedrag'].value_counts()"
   ]
  },
  {
   "cell_type": "markdown",
   "metadata": {},
   "source": [
    "## Data Preprocessing\n"
   ]
  },
  {
   "cell_type": "markdown",
   "metadata": {},
   "source": [
    "### Handling Text and Categorical Attributes"
   ]
  },
  {
   "cell_type": "code",
   "execution_count": 10,
   "metadata": {},
   "outputs": [],
   "source": [
    "from sklearn.impute import SimpleImputer\n",
    "from sklearn.preprocessing import OrdinalEncoder, StandardScaler\n",
    "from sklearn.pipeline import Pipeline\n",
    "from sklearn.compose import ColumnTransformer\n",
    "\n",
    "cat_attribs = ['Status_Camp', 'Type_campagne', 'Soort_Campagne', 'IP_Stad', 'IP_Land',\n",
    "      'Inschrijving_status',  'Onderwerp_campagne', 'Bron', 'Functie_title']\n",
    "\n",
    "num_attribs = ['Facturatie_bedrag']\n",
    "\n",
    "\n",
    "cat_pipeline = Pipeline([\n",
    "    (\"encoder\", OrdinalEncoder()),\n",
    "    ('imputer', SimpleImputer())\n",
    "])\n",
    "\n",
    "num_pipeline = Pipeline([\n",
    "    (\"scaler\", StandardScaler()),\n",
    "    ('imputer', SimpleImputer(strategy=\"mean\"))\n",
    "])\n",
    "\n",
    "prep = ColumnTransformer([\n",
    "    ('cat', cat_pipeline, cat_attribs),\n",
    "    ('num', num_pipeline, num_attribs)\n",
    "])\n",
    "\n",
    "df_final_strip = prep.fit_transform(df_final_strip)"
   ]
  },
  {
   "cell_type": "code",
   "execution_count": 11,
   "metadata": {},
   "outputs": [],
   "source": [
    "from sklearn.model_selection import train_test_split\n",
    "\n",
    "df_final_strip = pd.DataFrame(df_final_strip, columns=cat_attribs + num_attribs)\n",
    "\n",
    "\n",
    "X = df_final_strip.drop('Inschrijving_status', axis=1)\n",
    "y = df_final_strip['Inschrijving_status']\n",
    "\n",
    "\n",
    "X_train, X_test, y_train, y_test = train_test_split(X, y, test_size=0.1, random_state=42, shuffle=True, stratify=y)"
   ]
  },
  {
   "cell_type": "markdown",
   "metadata": {},
   "source": [
    "Oversampling the minority class"
   ]
  },
  {
   "cell_type": "code",
   "execution_count": 12,
   "metadata": {},
   "outputs": [],
   "source": [
    "# from imblearn.over_sampling import RandomOverSampler, SMOTE\n",
    "\n",
    "# # Using RandomOverSampler\n",
    "# ros = RandomOverSampler(sampling_strategy='minority', random_state=42)\n",
    "# X_train, y_train = ros.fit_resample(X_train, y_train)\n",
    "\n",
    "# # Using SMOTE\n",
    "# smote = SMOTE(sampling_strategy='minority', random_state=42)\n",
    "# X_train, y_train = smote.fit_resample(X_train, y_train)"
   ]
  },
  {
   "cell_type": "markdown",
   "metadata": {},
   "source": [
    "## Select and Train a Model"
   ]
  },
  {
   "cell_type": "markdown",
   "metadata": {},
   "source": [
    "#### Soort Model:\n",
    "\n",
    "- Recommender system \n",
    "- Model marketing pressure bepalen:\n",
    "  - UNKNOWN"
   ]
  },
  {
   "cell_type": "code",
   "execution_count": 13,
   "metadata": {},
   "outputs": [],
   "source": [
    "# from sklearn.ensemble import RandomForestClassifier\n",
    "# from sklearn.ensemble import VotingClassifier\n",
    "# from sklearn.linear_model import LogisticRegression\n",
    "# from sklearn.svm import SVC\n",
    "# from sklearn.tree import DecisionTreeClassifier\n",
    "\n",
    "# dec_clf = DecisionTreeClassifier(class_weight = {0: 0.989, 1: 1.045},random_state=42)\n",
    "# rnd_clf = RandomForestClassifier(class_weight = {0: 0.989, 1: 1.045},n_estimators=25, n_jobs=10,random_state=42)\n",
    "# svm_clf = SVC(class_weight = {0: 0.989, 1: 1.045},gamma=\"scale\", random_state=42)\n",
    "\n",
    "# voting_clf = VotingClassifier(\n",
    "#     estimators=[('dt', dec_clf),('lr', log_clf), ('rf', rnd_clf), ('svc', svm_clf)],\n",
    "#     voting='hard', n_jobs=10)"
   ]
  },
  {
   "cell_type": "code",
   "execution_count": 14,
   "metadata": {},
   "outputs": [],
   "source": [
    "# from sklearn.metrics import accuracy_score\n",
    "\n",
    "# for clf in (log_clf, rnd_clf, svm_clf, voting_clf):\n",
    "#     clf.fit(X_train, y_train)\n",
    "#     y_pred = clf.predict(X_test)\n",
    "#     print(clf.__class__.__name__, accuracy_score(y_test, y_pred))"
   ]
  },
  {
   "cell_type": "code",
   "execution_count": 15,
   "metadata": {},
   "outputs": [],
   "source": [
    "# voting_clf.fit(X_train, y_train)\n"
   ]
  },
  {
   "cell_type": "code",
   "execution_count": 16,
   "metadata": {},
   "outputs": [],
   "source": [
    "# print(voting_clf.score(X_test, y_test))"
   ]
  },
  {
   "cell_type": "code",
   "execution_count": 17,
   "metadata": {},
   "outputs": [],
   "source": [
    "# from sklearn.ensemble import BaggingClassifier\n",
    "# from sklearn.tree import DecisionTreeClassifier\n",
    "\n",
    "# bag_clf = BaggingClassifier(\n",
    "#     DecisionTreeClassifier(class_weight = {0: 0.989, 1: 1.045},random_state=42), n_estimators=25,\n",
    "#      bootstrap=True) \n",
    "# bag_clf.fit(X_train, y_train)\n",
    "# y_pred_bag = bag_clf.predict(X_test)"
   ]
  },
  {
   "cell_type": "code",
   "execution_count": 18,
   "metadata": {},
   "outputs": [],
   "source": [
    "# from sklearn.metrics import precision_score, recall_score, f1_score, roc_auc_score, accuracy_score\n",
    "\n",
    "# y_pred_bag = bag_clf.predict(X_test)\n",
    "# accuracy = accuracy_score(y_test, y_pred_bag)\n",
    "# precision = precision_score(y_test, y_pred_bag)\n",
    "# recall = recall_score(y_test, y_pred_bag)\n",
    "# f1 = f1_score(y_test, y_pred_bag)\n",
    "# roc_auc = roc_auc_score(y_test, y_pred_bag)\n",
    "\n",
    "# print(\"Accuracy:\", accuracy)\n",
    "# print(\"Precision:\", precision)\n",
    "# print(\"Recall:\", recall)\n",
    "# print(\"F1 Score:\", f1)\n",
    "# print(\"ROC AUC Score:\", roc_auc)"
   ]
  },
  {
   "cell_type": "markdown",
   "metadata": {},
   "source": [
    "### Random Forest"
   ]
  },
  {
   "cell_type": "code",
   "execution_count": 24,
   "metadata": {},
   "outputs": [],
   "source": [
    "from sklearn.ensemble import RandomForestClassifier\n",
    "\n",
    "rfc = RandomForestClassifier(class_weight = {0: 0.989, 1: 1.049},n_estimators=25, n_jobs=10,random_state=42)"
   ]
  },
  {
   "cell_type": "code",
   "execution_count": 25,
   "metadata": {},
   "outputs": [
    {
     "data": {
      "text/html": [
       "<style>#sk-container-id-2 {color: black;}#sk-container-id-2 pre{padding: 0;}#sk-container-id-2 div.sk-toggleable {background-color: white;}#sk-container-id-2 label.sk-toggleable__label {cursor: pointer;display: block;width: 100%;margin-bottom: 0;padding: 0.3em;box-sizing: border-box;text-align: center;}#sk-container-id-2 label.sk-toggleable__label-arrow:before {content: \"▸\";float: left;margin-right: 0.25em;color: #696969;}#sk-container-id-2 label.sk-toggleable__label-arrow:hover:before {color: black;}#sk-container-id-2 div.sk-estimator:hover label.sk-toggleable__label-arrow:before {color: black;}#sk-container-id-2 div.sk-toggleable__content {max-height: 0;max-width: 0;overflow: hidden;text-align: left;background-color: #f0f8ff;}#sk-container-id-2 div.sk-toggleable__content pre {margin: 0.2em;color: black;border-radius: 0.25em;background-color: #f0f8ff;}#sk-container-id-2 input.sk-toggleable__control:checked~div.sk-toggleable__content {max-height: 200px;max-width: 100%;overflow: auto;}#sk-container-id-2 input.sk-toggleable__control:checked~label.sk-toggleable__label-arrow:before {content: \"▾\";}#sk-container-id-2 div.sk-estimator input.sk-toggleable__control:checked~label.sk-toggleable__label {background-color: #d4ebff;}#sk-container-id-2 div.sk-label input.sk-toggleable__control:checked~label.sk-toggleable__label {background-color: #d4ebff;}#sk-container-id-2 input.sk-hidden--visually {border: 0;clip: rect(1px 1px 1px 1px);clip: rect(1px, 1px, 1px, 1px);height: 1px;margin: -1px;overflow: hidden;padding: 0;position: absolute;width: 1px;}#sk-container-id-2 div.sk-estimator {font-family: monospace;background-color: #f0f8ff;border: 1px dotted black;border-radius: 0.25em;box-sizing: border-box;margin-bottom: 0.5em;}#sk-container-id-2 div.sk-estimator:hover {background-color: #d4ebff;}#sk-container-id-2 div.sk-parallel-item::after {content: \"\";width: 100%;border-bottom: 1px solid gray;flex-grow: 1;}#sk-container-id-2 div.sk-label:hover label.sk-toggleable__label {background-color: #d4ebff;}#sk-container-id-2 div.sk-serial::before {content: \"\";position: absolute;border-left: 1px solid gray;box-sizing: border-box;top: 0;bottom: 0;left: 50%;z-index: 0;}#sk-container-id-2 div.sk-serial {display: flex;flex-direction: column;align-items: center;background-color: white;padding-right: 0.2em;padding-left: 0.2em;position: relative;}#sk-container-id-2 div.sk-item {position: relative;z-index: 1;}#sk-container-id-2 div.sk-parallel {display: flex;align-items: stretch;justify-content: center;background-color: white;position: relative;}#sk-container-id-2 div.sk-item::before, #sk-container-id-2 div.sk-parallel-item::before {content: \"\";position: absolute;border-left: 1px solid gray;box-sizing: border-box;top: 0;bottom: 0;left: 50%;z-index: -1;}#sk-container-id-2 div.sk-parallel-item {display: flex;flex-direction: column;z-index: 1;position: relative;background-color: white;}#sk-container-id-2 div.sk-parallel-item:first-child::after {align-self: flex-end;width: 50%;}#sk-container-id-2 div.sk-parallel-item:last-child::after {align-self: flex-start;width: 50%;}#sk-container-id-2 div.sk-parallel-item:only-child::after {width: 0;}#sk-container-id-2 div.sk-dashed-wrapped {border: 1px dashed gray;margin: 0 0.4em 0.5em 0.4em;box-sizing: border-box;padding-bottom: 0.4em;background-color: white;}#sk-container-id-2 div.sk-label label {font-family: monospace;font-weight: bold;display: inline-block;line-height: 1.2em;}#sk-container-id-2 div.sk-label-container {text-align: center;}#sk-container-id-2 div.sk-container {/* jupyter's `normalize.less` sets `[hidden] { display: none; }` but bootstrap.min.css set `[hidden] { display: none !important; }` so we also need the `!important` here to be able to override the default hidden behavior on the sphinx rendered scikit-learn.org. See: https://github.com/scikit-learn/scikit-learn/issues/21755 */display: inline-block !important;position: relative;}#sk-container-id-2 div.sk-text-repr-fallback {display: none;}</style><div id=\"sk-container-id-2\" class=\"sk-top-container\"><div class=\"sk-text-repr-fallback\"><pre>RandomForestClassifier(class_weight={0: 0.989, 1: 1.049}, n_estimators=25,\n",
       "                       n_jobs=10, random_state=42)</pre><b>In a Jupyter environment, please rerun this cell to show the HTML representation or trust the notebook. <br />On GitHub, the HTML representation is unable to render, please try loading this page with nbviewer.org.</b></div><div class=\"sk-container\" hidden><div class=\"sk-item\"><div class=\"sk-estimator sk-toggleable\"><input class=\"sk-toggleable__control sk-hidden--visually\" id=\"sk-estimator-id-2\" type=\"checkbox\" checked><label for=\"sk-estimator-id-2\" class=\"sk-toggleable__label sk-toggleable__label-arrow\">RandomForestClassifier</label><div class=\"sk-toggleable__content\"><pre>RandomForestClassifier(class_weight={0: 0.989, 1: 1.049}, n_estimators=25,\n",
       "                       n_jobs=10, random_state=42)</pre></div></div></div></div></div>"
      ],
      "text/plain": [
       "RandomForestClassifier(class_weight={0: 0.989, 1: 1.049}, n_estimators=25,\n",
       "                       n_jobs=10, random_state=42)"
      ]
     },
     "execution_count": 25,
     "metadata": {},
     "output_type": "execute_result"
    }
   ],
   "source": [
    "rfc.fit(X_train, y_train)"
   ]
  },
  {
   "cell_type": "code",
   "execution_count": 26,
   "metadata": {},
   "outputs": [
    {
     "name": "stdout",
     "output_type": "stream",
     "text": [
      "Accuracy: 0.9850041097723378\n",
      "Precision: 0.9556459299739467\n",
      "Recall: 0.39705882352941174\n",
      "F1 Score: 0.5610206479771697\n",
      "ROC AUC Score: 0.6983015386371505\n"
     ]
    }
   ],
   "source": [
    "from sklearn.metrics import precision_score, recall_score, f1_score, roc_auc_score, accuracy_score\n",
    "\n",
    "y_pred_rfc = rfc.predict(X_test)\n",
    "accuracy = accuracy_score(y_test, y_pred_rfc)\n",
    "precision = precision_score(y_test, y_pred_rfc)\n",
    "recall = recall_score(y_test, y_pred_rfc)\n",
    "f1 = f1_score(y_test, y_pred_rfc)\n",
    "roc_auc = roc_auc_score(y_test, y_pred_rfc)\n",
    "\n",
    "print(\"Accuracy:\", accuracy)\n",
    "print(\"Precision:\", precision)\n",
    "print(\"Recall:\", recall)\n",
    "print(\"F1 Score:\", f1)\n",
    "print(\"ROC AUC Score:\", roc_auc)"
   ]
  },
  {
   "cell_type": "code",
   "execution_count": 27,
   "metadata": {},
   "outputs": [
    {
     "name": "stdout",
     "output_type": "stream",
     "text": [
      "(1569430, 9)\n",
      "**************************************************\n",
      "37876\n",
      "**************************************************\n",
      "[0.99954425 0.39705882]\n",
      "**************************************************\n",
      "[[1530856     698]\n",
      " [  22837   15039]]\n"
     ]
    }
   ],
   "source": [
    "from sklearn.metrics import confusion_matrix\n",
    "print(X_test.shape)\n",
    "print(\"*\"*50)\n",
    "print(sum(y_test==True))\n",
    "print(\"*\"*50)\n",
    "matrix = confusion_matrix(y_test, y_pred_rfc)\n",
    "print(matrix.diagonal()/matrix.sum(axis=1))\n",
    "print(\"*\"*50)\n",
    "print(matrix)"
   ]
  },
  {
   "cell_type": "code",
   "execution_count": 28,
   "metadata": {},
   "outputs": [
    {
     "ename": "SyntaxError",
     "evalue": "invalid syntax (3018925666.py, line 1)",
     "output_type": "error",
     "traceback": [
      "\u001b[0;36m  Cell \u001b[0;32mIn[28], line 1\u001b[0;36m\u001b[0m\n\u001b[0;31m    throw KeyError\u001b[0m\n\u001b[0m          ^\u001b[0m\n\u001b[0;31mSyntaxError\u001b[0m\u001b[0;31m:\u001b[0m invalid syntax\n"
     ]
    }
   ],
   "source": [
    "throw KeyError"
   ]
  },
  {
   "cell_type": "markdown",
   "metadata": {},
   "source": [
    "Grid Search CV, Boosting, Stacking"
   ]
  },
  {
   "cell_type": "code",
   "execution_count": null,
   "metadata": {},
   "outputs": [],
   "source": [
    "from sklearn.model_selection import GridSearchCV\n",
    "\n",
    "param = {'class_weight': [[{0:x, 1:w} for w in [1.01, 1.02, 1.03]for x in [0.5,0.75,0.8]]]}\n",
    "\n",
    "\n",
    "grid = GridSearchCV(RandomForestClassifier(n_estimators=25, random_state=42), param, refit=True, verbose=True, n_jobs=10)\n"
   ]
  },
  {
   "cell_type": "code",
   "execution_count": null,
   "metadata": {},
   "outputs": [
    {
     "name": "stdout",
     "output_type": "stream",
     "text": [
      "Fitting 5 folds for each of 9 candidates, totalling 45 fits\n",
      "{'class_weight': {0: 1, 1: 1}, 'n_estimators': 25}\n"
     ]
    }
   ],
   "source": [
    "grid.fit(X_train, y_train)\n",
    "print(grid.best_params_)"
   ]
  },
  {
   "cell_type": "code",
   "execution_count": null,
   "metadata": {},
   "outputs": [
    {
     "name": "stderr",
     "output_type": "stream",
     "text": [
      "/home/flor/.local/lib/python3.10/site-packages/sklearn/metrics/_classification.py:1469: UndefinedMetricWarning: Precision and F-score are ill-defined and being set to 0.0 in labels with no predicted samples. Use `zero_division` parameter to control this behavior.\n",
      "  _warn_prf(average, modifier, msg_start, len(result))\n",
      "/home/flor/.local/lib/python3.10/site-packages/sklearn/metrics/_classification.py:1469: UndefinedMetricWarning: Precision and F-score are ill-defined and being set to 0.0 in labels with no predicted samples. Use `zero_division` parameter to control this behavior.\n",
      "  _warn_prf(average, modifier, msg_start, len(result))\n"
     ]
    },
    {
     "name": "stdout",
     "output_type": "stream",
     "text": [
      "              precision    recall  f1-score   support\n",
      "\n",
      "         0.0       0.97      1.00      0.98    683109\n",
      "         1.0       0.00      0.00      0.00     21462\n",
      "\n",
      "    accuracy                           0.97    704571\n",
      "   macro avg       0.48      0.50      0.49    704571\n",
      "weighted avg       0.94      0.97      0.95    704571\n",
      "\n"
     ]
    },
    {
     "name": "stderr",
     "output_type": "stream",
     "text": [
      "/home/flor/.local/lib/python3.10/site-packages/sklearn/metrics/_classification.py:1469: UndefinedMetricWarning: Precision and F-score are ill-defined and being set to 0.0 in labels with no predicted samples. Use `zero_division` parameter to control this behavior.\n",
      "  _warn_prf(average, modifier, msg_start, len(result))\n"
     ]
    }
   ],
   "source": [
    "from sklearn.metrics import classification_report\n",
    "grid_predictions = grid.predict(X_test)\n",
    "print(classification_report(y_test, grid_predictions))"
   ]
  },
  {
   "cell_type": "code",
   "execution_count": null,
   "metadata": {},
   "outputs": [
    {
     "data": {
      "text/plain": [
       "array([[683109,      0],\n",
       "       [ 21462,      0]])"
      ]
     },
     "execution_count": 24,
     "metadata": {},
     "output_type": "execute_result"
    }
   ],
   "source": [
    "from sklearn.metrics import confusion_matrix\n",
    "\n",
    "confusion_matrix(y_test, grid_predictions)"
   ]
  },
  {
   "cell_type": "code",
   "execution_count": null,
   "metadata": {},
   "outputs": [],
   "source": [
    "from sklearn.ensemble import AdaBoostClassifier\n",
    "from sklearn.tree import DecisionTreeClassifier\n",
    "\n",
    "ada_clf = AdaBoostClassifier(\n",
    "    DecisionTreeClassifier(max_depth=1), n_estimators=200,\n",
    "    algorithm=\"SAMME.R\", learning_rate=0.5, random_state=42)\n",
    "ada_clf.fit(X_train, y_train)"
   ]
  },
  {
   "cell_type": "markdown",
   "metadata": {},
   "source": [
    "### Neural network ?"
   ]
  }
 ],
 "metadata": {
  "kernelspec": {
   "display_name": "Python 3",
   "language": "python",
   "name": "python3"
  },
  "language_info": {
   "codemirror_mode": {
    "name": "ipython",
    "version": 3
   },
   "file_extension": ".py",
   "mimetype": "text/x-python",
   "name": "python",
   "nbconvert_exporter": "python",
   "pygments_lexer": "ipython3",
   "version": "3.10.12"
  }
 },
 "nbformat": 4,
 "nbformat_minor": 2
}
