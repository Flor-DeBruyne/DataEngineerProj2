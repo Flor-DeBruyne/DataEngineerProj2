{
 "cells": [
  {
   "cell_type": "code",
   "execution_count": 9,
   "metadata": {},
   "outputs": [],
   "source": [
    "import pandas as pd\n",
    "\n",
    "csv_dir = \"../../Data/Account_financiele_data.csv\"\n",
    "df = pd.read_csv(csv_dir)\n",
    "df.drop_duplicates(inplace=True)\n",
    "df.to_csv(csv_dir, index=False)"
   ]
  },
  {
   "cell_type": "code",
   "execution_count": null,
   "metadata": {},
   "outputs": [],
   "source": [
    "csv_dir = \"../../Data/Persoon.csv\"\n",
    "df = pd.read_csv(csv_dir)\n",
    "df.drop_duplicates(inplace=True)\n",
    "df.to_csv(csv_dir, index=False)"
   ]
  },
  {
   "cell_type": "code",
   "execution_count": 10,
   "metadata": {},
   "outputs": [],
   "source": [
    "csv_dir = '../../Data/Activiteit_vereist_contact.csv'\n",
    "df = pd.read_csv(csv_dir)\n",
    "df.drop_duplicates(inplace=True)\n",
    "df.to_csv(csv_dir, index=False)"
   ]
  },
  {
   "cell_type": "code",
   "execution_count": 11,
   "metadata": {},
   "outputs": [],
   "source": [
    "csv_dir = '../../Data/CDI_sent_email_clicks.csv'\n",
    "df = pd.read_csv(csv_dir)\n",
    "df.drop_duplicates(inplace=True)\n",
    "df.to_csv(csv_dir, index=False)"
   ]
  },
  {
   "cell_type": "code",
   "execution_count": 12,
   "metadata": {},
   "outputs": [],
   "source": [
    "csv_dir = '../../Data/Inschrijving.csv'\n",
    "df = pd.read_csv(csv_dir)\n",
    "df.drop_duplicates(inplace=True)\n",
    "df.to_csv(csv_dir, index=False)"
   ]
  },
  {
   "cell_type": "code",
   "execution_count": 13,
   "metadata": {},
   "outputs": [],
   "source": [
    "csv_dir = '../../Data/Functie.csv'\n",
    "df = pd.read_csv(csv_dir)\n",
    "df.drop_duplicates(inplace=True)\n",
    "df.to_csv(csv_dir, index=False)"
   ]
  }
 ],
 "metadata": {
  "kernelspec": {
   "display_name": "Python 3",
   "language": "python",
   "name": "python3"
  },
  "language_info": {
   "codemirror_mode": {
    "name": "ipython",
    "version": 3
   },
   "file_extension": ".py",
   "mimetype": "text/x-python",
   "name": "python",
   "nbconvert_exporter": "python",
   "pygments_lexer": "ipython3",
   "version": "3.10.12"
  }
 },
 "nbformat": 4,
 "nbformat_minor": 2
}
