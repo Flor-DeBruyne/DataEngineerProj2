{
 "cells": [
  {
   "cell_type": "code",
   "execution_count": 1,
   "metadata": {},
   "outputs": [
    {
     "ename": "KeyError",
     "evalue": "\"['crm_Account_Hoofd_NaCe_Code'] not found in axis\"",
     "output_type": "error",
     "traceback": [
      "\u001b[0;31m---------------------------------------------------------------------------\u001b[0m",
      "\u001b[0;31mKeyError\u001b[0m                                  Traceback (most recent call last)",
      "\u001b[1;32m/home/flor/Workspace/DEP2/DataEngineerProj2/DataCleaning/Cleaning.ipynb Cell 1\u001b[0m line \u001b[0;36m5\n\u001b[1;32m      <a href='vscode-notebook-cell:/home/flor/Workspace/DEP2/DataEngineerProj2/DataCleaning/Cleaning.ipynb#W0sZmlsZQ%3D%3D?line=2'>3</a>\u001b[0m df_ac \u001b[39m=\u001b[39m pd\u001b[39m.\u001b[39mread_csv(\u001b[39m'\u001b[39m\u001b[39m../Data/Account.csv\u001b[39m\u001b[39m'\u001b[39m)\n\u001b[1;32m      <a href='vscode-notebook-cell:/home/flor/Workspace/DEP2/DataEngineerProj2/DataCleaning/Cleaning.ipynb#W0sZmlsZQ%3D%3D?line=3'>4</a>\u001b[0m unique_account \u001b[39m=\u001b[39m \u001b[39mset\u001b[39m(df_ac[\u001b[39m'\u001b[39m\u001b[39mcrm_Account_Account\u001b[39m\u001b[39m'\u001b[39m])\n\u001b[0;32m----> <a href='vscode-notebook-cell:/home/flor/Workspace/DEP2/DataEngineerProj2/DataCleaning/Cleaning.ipynb#W0sZmlsZQ%3D%3D?line=4'>5</a>\u001b[0m df_ac\u001b[39m.\u001b[39;49mdrop(\u001b[39m'\u001b[39;49m\u001b[39mcrm_Account_Hoofd_NaCe_Code\u001b[39;49m\u001b[39m'\u001b[39;49m, axis\u001b[39m=\u001b[39;49m\u001b[39m1\u001b[39;49m, inplace\u001b[39m=\u001b[39;49m\u001b[39mTrue\u001b[39;49;00m)\n\u001b[1;32m      <a href='vscode-notebook-cell:/home/flor/Workspace/DEP2/DataEngineerProj2/DataCleaning/Cleaning.ipynb#W0sZmlsZQ%3D%3D?line=5'>6</a>\u001b[0m df_ac\u001b[39m.\u001b[39mdrop_duplicates(keep\u001b[39m=\u001b[39m\u001b[39m'\u001b[39m\u001b[39mfirst\u001b[39m\u001b[39m'\u001b[39m, inplace\u001b[39m=\u001b[39m\u001b[39mTrue\u001b[39;00m)\n\u001b[1;32m      <a href='vscode-notebook-cell:/home/flor/Workspace/DEP2/DataEngineerProj2/DataCleaning/Cleaning.ipynb#W0sZmlsZQ%3D%3D?line=6'>7</a>\u001b[0m df_ac\u001b[39m.\u001b[39mto_csv(\u001b[39m'\u001b[39m\u001b[39m../Data/Account.csv\u001b[39m\u001b[39m'\u001b[39m ,index\u001b[39m=\u001b[39m\u001b[39mFalse\u001b[39;00m)\n",
      "File \u001b[0;32m~/.local/lib/python3.10/site-packages/pandas/core/frame.py:5347\u001b[0m, in \u001b[0;36mDataFrame.drop\u001b[0;34m(self, labels, axis, index, columns, level, inplace, errors)\u001b[0m\n\u001b[1;32m   5199\u001b[0m \u001b[39mdef\u001b[39;00m \u001b[39mdrop\u001b[39m(\n\u001b[1;32m   5200\u001b[0m     \u001b[39mself\u001b[39m,\n\u001b[1;32m   5201\u001b[0m     labels: IndexLabel \u001b[39m|\u001b[39m \u001b[39mNone\u001b[39;00m \u001b[39m=\u001b[39m \u001b[39mNone\u001b[39;00m,\n\u001b[0;32m   (...)\u001b[0m\n\u001b[1;32m   5208\u001b[0m     errors: IgnoreRaise \u001b[39m=\u001b[39m \u001b[39m\"\u001b[39m\u001b[39mraise\u001b[39m\u001b[39m\"\u001b[39m,\n\u001b[1;32m   5209\u001b[0m ) \u001b[39m-\u001b[39m\u001b[39m>\u001b[39m DataFrame \u001b[39m|\u001b[39m \u001b[39mNone\u001b[39;00m:\n\u001b[1;32m   5210\u001b[0m \u001b[39m    \u001b[39m\u001b[39m\"\"\"\u001b[39;00m\n\u001b[1;32m   5211\u001b[0m \u001b[39m    Drop specified labels from rows or columns.\u001b[39;00m\n\u001b[1;32m   5212\u001b[0m \n\u001b[0;32m   (...)\u001b[0m\n\u001b[1;32m   5345\u001b[0m \u001b[39m            weight  1.0     0.8\u001b[39;00m\n\u001b[1;32m   5346\u001b[0m \u001b[39m    \"\"\"\u001b[39;00m\n\u001b[0;32m-> 5347\u001b[0m     \u001b[39mreturn\u001b[39;00m \u001b[39msuper\u001b[39;49m()\u001b[39m.\u001b[39;49mdrop(\n\u001b[1;32m   5348\u001b[0m         labels\u001b[39m=\u001b[39;49mlabels,\n\u001b[1;32m   5349\u001b[0m         axis\u001b[39m=\u001b[39;49maxis,\n\u001b[1;32m   5350\u001b[0m         index\u001b[39m=\u001b[39;49mindex,\n\u001b[1;32m   5351\u001b[0m         columns\u001b[39m=\u001b[39;49mcolumns,\n\u001b[1;32m   5352\u001b[0m         level\u001b[39m=\u001b[39;49mlevel,\n\u001b[1;32m   5353\u001b[0m         inplace\u001b[39m=\u001b[39;49minplace,\n\u001b[1;32m   5354\u001b[0m         errors\u001b[39m=\u001b[39;49merrors,\n\u001b[1;32m   5355\u001b[0m     )\n",
      "File \u001b[0;32m~/.local/lib/python3.10/site-packages/pandas/core/generic.py:4711\u001b[0m, in \u001b[0;36mNDFrame.drop\u001b[0;34m(self, labels, axis, index, columns, level, inplace, errors)\u001b[0m\n\u001b[1;32m   4709\u001b[0m \u001b[39mfor\u001b[39;00m axis, labels \u001b[39min\u001b[39;00m axes\u001b[39m.\u001b[39mitems():\n\u001b[1;32m   4710\u001b[0m     \u001b[39mif\u001b[39;00m labels \u001b[39mis\u001b[39;00m \u001b[39mnot\u001b[39;00m \u001b[39mNone\u001b[39;00m:\n\u001b[0;32m-> 4711\u001b[0m         obj \u001b[39m=\u001b[39m obj\u001b[39m.\u001b[39;49m_drop_axis(labels, axis, level\u001b[39m=\u001b[39;49mlevel, errors\u001b[39m=\u001b[39;49merrors)\n\u001b[1;32m   4713\u001b[0m \u001b[39mif\u001b[39;00m inplace:\n\u001b[1;32m   4714\u001b[0m     \u001b[39mself\u001b[39m\u001b[39m.\u001b[39m_update_inplace(obj)\n",
      "File \u001b[0;32m~/.local/lib/python3.10/site-packages/pandas/core/generic.py:4753\u001b[0m, in \u001b[0;36mNDFrame._drop_axis\u001b[0;34m(self, labels, axis, level, errors, only_slice)\u001b[0m\n\u001b[1;32m   4751\u001b[0m         new_axis \u001b[39m=\u001b[39m axis\u001b[39m.\u001b[39mdrop(labels, level\u001b[39m=\u001b[39mlevel, errors\u001b[39m=\u001b[39merrors)\n\u001b[1;32m   4752\u001b[0m     \u001b[39melse\u001b[39;00m:\n\u001b[0;32m-> 4753\u001b[0m         new_axis \u001b[39m=\u001b[39m axis\u001b[39m.\u001b[39;49mdrop(labels, errors\u001b[39m=\u001b[39;49merrors)\n\u001b[1;32m   4754\u001b[0m     indexer \u001b[39m=\u001b[39m axis\u001b[39m.\u001b[39mget_indexer(new_axis)\n\u001b[1;32m   4756\u001b[0m \u001b[39m# Case for non-unique axis\u001b[39;00m\n\u001b[1;32m   4757\u001b[0m \u001b[39melse\u001b[39;00m:\n",
      "File \u001b[0;32m~/.local/lib/python3.10/site-packages/pandas/core/indexes/base.py:6992\u001b[0m, in \u001b[0;36mIndex.drop\u001b[0;34m(self, labels, errors)\u001b[0m\n\u001b[1;32m   6990\u001b[0m \u001b[39mif\u001b[39;00m mask\u001b[39m.\u001b[39many():\n\u001b[1;32m   6991\u001b[0m     \u001b[39mif\u001b[39;00m errors \u001b[39m!=\u001b[39m \u001b[39m\"\u001b[39m\u001b[39mignore\u001b[39m\u001b[39m\"\u001b[39m:\n\u001b[0;32m-> 6992\u001b[0m         \u001b[39mraise\u001b[39;00m \u001b[39mKeyError\u001b[39;00m(\u001b[39mf\u001b[39m\u001b[39m\"\u001b[39m\u001b[39m{\u001b[39;00mlabels[mask]\u001b[39m.\u001b[39mtolist()\u001b[39m}\u001b[39;00m\u001b[39m not found in axis\u001b[39m\u001b[39m\"\u001b[39m)\n\u001b[1;32m   6993\u001b[0m     indexer \u001b[39m=\u001b[39m indexer[\u001b[39m~\u001b[39mmask]\n\u001b[1;32m   6994\u001b[0m \u001b[39mreturn\u001b[39;00m \u001b[39mself\u001b[39m\u001b[39m.\u001b[39mdelete(indexer)\n",
      "\u001b[0;31mKeyError\u001b[0m: \"['crm_Account_Hoofd_NaCe_Code'] not found in axis\""
     ]
    }
   ],
   "source": [
    "import pandas as pd\n",
    "\n",
    "df_ac = pd.read_csv('../Data/Account.csv')\n",
    "unique_account = set(df_ac['crm_Account_Account'])\n",
    "df_ac.drop('crm_Account_Hoofd_NaCe_Code', axis=1, inplace=True)\n",
    "df_ac.drop_duplicates(keep='first', inplace=True)\n",
    "df_ac.to_csv('../Data/Account.csv' ,index=False)\n",
    "\n",
    "df_con = pd.read_csv('../Data/Contact.csv')\n",
    "unique_contact = set(df_con['crm_Contact_Contactpersoon'])\n",
    "\n",
    "df_all = pd.read_csv('../Data/Afspraak alle.csv')\n",
    "unique_afspraak = set(df_all['crm_Afspraak_ALLE_Afspraak'])\n",
    "\n",
    "df_cam = pd.read_csv('../Data/Campagne.csv')\n",
    "unique_campaign = set(df_cam['crm_Campagne_Campagne'])\n",
    "\n",
    "df_mail = pd.read_csv(\"../Data/CDI mailing.csv\")\n",
    "unique_mail = set(df_mail[\"crm_CDI_Mailing_Mailing\"])\n",
    "\n",
    "df_per = pd.read_csv('../Data/Persoon.csv')\n",
    "unique_persoon = set(df_per[\"crm_Persoon_persoon\"])\n",
    "df_per.drop(['crm_Persoon_Mail_regio_Antwerpen_Waasland',\n",
    "              'crm_Persoon_Mail_regio_Brussel_Hoofdstedelijk_Gewest',\n",
    "              'crm_Persoon_Mail_regio_Limburg',\n",
    "              'crm_Persoon_Mail_regio_Mechelen_Kempen',\n",
    "              'crm_Persoon_Mail_regio_Oost_Vlaanderen',\n",
    "              'crm_Persoon_Mail_regio_Vlaams_Brabant',\n",
    "              'crm_Persoon_Mail_regio_Voka_nationaal',\n",
    "              'crm_Persoon_Mail_regio_West_Vlaanderen'\n",
    "              ], axis=1, inplace=True)\n",
    "df_per.drop(['crm_Persoon_Mail_thema_duurzaamheid',\n",
    "              'crm_Persoon_Mail_thema_financieel_fiscaal',\n",
    "              'crm_Persoon_Mail_thema_innovatie',\n",
    "              'crm_Persoon_Mail_thema_internationaal_ondernemen',\n",
    "              'crm_Persoon_Mail_thema_mobiliteit',\n",
    "              'crm_Persoon_Mail_thema_omgeving',\n",
    "              'crm_Persoon_Mail_thema_sales_marketing_communicatie',\n",
    "              'crm_Persoon_Mail_thema_strategie_en_algemeen_management',\n",
    "              'crm_Persoon_Mail_thema_talent',\n",
    "              'crm_Persoon_Mail_thema_welzijn',\n",
    "              ], axis=1, inplace=True)\n",
    "df_per.drop(['crm_Persoon_Mail_type_Bevraging',\n",
    "              'crm_Persoon_Mail_type_communities_en_projecten',\n",
    "              'crm_Persoon_Mail_type_netwerkevenementen',\n",
    "              'crm_Persoon_Mail_type_nieuwsbrieven',\n",
    "              'crm_Persoon_Mail_type_opleidingen',\n",
    "              'crm_Persoon_Mail_type_persberichten_belangrijke_meldingen',\n",
    "              ], axis=1, inplace=True)   \n",
    "df_per.drop('crm_Persoon_Web_Login', axis=1, inplace=True)\n",
    "df_per.to_csv('../Data/Persoon.csv', index=False)        \n",
    "\n",
    "\n",
    "df_func = pd.read_csv(\"../Data/Functie.csv\")\n",
    "unique_functie = set(df_func[\"crm_Functie_Functie\"])\n",
    "\n",
    "df_geb = pd.read_csv(\"../Data/Gebruikers.csv\")\n",
    "unique_gebruiker = set(df_geb['crm_Gebruikers_CRM_User_ID'])\n",
    "\n",
    "df_insc = pd.read_csv(\"../Data/Inschrijving.csv\")\n",
    "unique_inschrijving = set(df_insc[\"crm_Inschrijving_Inschrijving\"])\n",
    "\n",
    "df_ses = pd.read_csv(\"../Data/Sessie.csv\")\n",
    "unique_sessie = set(df_ses[\"crm_Sessie_Sessie\"])\n"
   ]
  },
  {
   "cell_type": "code",
   "execution_count": null,
   "metadata": {},
   "outputs": [
    {
     "name": "stdout",
     "output_type": "stream",
     "text": [
      "<class 'pandas.core.frame.DataFrame'>\n",
      "Index: 1169673 entries, 0 to 1189772\n",
      "Data columns (total 6 columns):\n",
      " #   Column                       Non-Null Count    Dtype \n",
      "---  ------                       --------------    ----- \n",
      " 0   crm_Contact_Contactpersoon   1169673 non-null  object\n",
      " 1   crm_Contact_Account          1169673 non-null  object\n",
      " 2   crm_Contact_Functietitel     1144972 non-null  object\n",
      " 3   crm_Contact_Persoon_ID       1169673 non-null  object\n",
      " 4   crm_Contact_Status           1169673 non-null  object\n",
      " 5   crm_Contact_Voka_medewerker  1169673 non-null  int64 \n",
      "dtypes: int64(1), object(5)\n",
      "memory usage: 62.5+ MB\n"
     ]
    }
   ],
   "source": [
    "# df_con[df_con['crm_Contact_Persoon_ID'].isin(unique_persoon)].info()\n",
    "df_con.info()"
   ]
  },
  {
   "cell_type": "code",
   "execution_count": null,
   "metadata": {},
   "outputs": [],
   "source": [
    "df_fd = pd.read_csv(\"../Data/Account financiële data.csv\")\n",
    "df_fd = df_fd[df_fd['crm_FinancieleData_OndernemingID'].isin(unique_account)]\n",
    "df_fd = df_fd.drop_duplicates(subset=['crm_FinancieleData_OndernemingID', 'crm_FinancieleData_Boekjaar'], keep='first')\n",
    "\n",
    "df_fd.to_csv(\"../Data/Account financiële data.csv\", index=False)"
   ]
  },
  {
   "cell_type": "code",
   "execution_count": null,
   "metadata": {},
   "outputs": [],
   "source": [
    "df_insc = df_insc[df_insc['crm_Inschrijving_Contactfiche'].isin(unique_contact)]\n",
    "df_insc = df_insc[df_insc[\"crm_Inschrijving_Bron\"].isin(unique_campaign)]\n",
    "df_insc.drop_duplicates(subset='crm_Inschrijving_Inschrijving', inplace=True, keep='first')\n",
    "\n",
    "df_insc.to_csv(\"../Data/Inschrijving.csv\", index=False)"
   ]
  },
  {
   "cell_type": "code",
   "execution_count": null,
   "metadata": {},
   "outputs": [
    {
     "name": "stderr",
     "output_type": "stream",
     "text": [
      "/tmp/ipykernel_10353/3790270169.py:1: DtypeWarning: Columns (2) have mixed types. Specify dtype option on import or set low_memory=False.\n",
      "  df_pa = pd.read_csv(\"../Data/cdi pageviews.csv\")\n"
     ]
    },
    {
     "name": "stdout",
     "output_type": "stream",
     "text": [
      "<class 'pandas.core.frame.DataFrame'>\n",
      "RangeIndex: 184191 entries, 0 to 184190\n",
      "Data columns (total 21 columns):\n",
      " #   Column                              Non-Null Count   Dtype  \n",
      "---  ------                              --------------   -----  \n",
      " 0   crm_CDI_PageView_Anonymous_Visitor  0 non-null       float64\n",
      " 1   crm_CDI_PageView_Browser            184188 non-null  object \n",
      " 2   crm_CDI_PageView_Campaign           82265 non-null   object \n",
      " 3   crm_CDI_PageView_Contact            184191 non-null  object \n",
      " 4   crm_CDI_PageView_Duration           125103 non-null  float64\n",
      " 5   crm_CDI_PageView_Operating_System   184191 non-null  object \n",
      " 6   crm_CDI_PageView_Page_View          184191 non-null  object \n",
      " 7   crm_CDI_PageView_Referrer_Type      184191 non-null  object \n",
      " 8   crm_CDI_PageView_Time               184191 non-null  object \n",
      " 9   crm_CDI_PageView_Page_Title         182826 non-null  object \n",
      " 10  crm_CDI_PageView_Type               184191 non-null  object \n",
      " 11  crm_CDI_PageView_Url                184191 non-null  object \n",
      " 12  crm_CDI_PageView_Viewed_On          184191 non-null  object \n",
      " 13  crm_CDI_PageView_Visit              184172 non-null  object \n",
      " 14  crm_CDI_PageView_Visitor_Key        184191 non-null  object \n",
      " 15  crm_CDI_PageView_Web_Content        1529 non-null    object \n",
      " 16  crm_CDI_PageView_Aangemaakt_op      184191 non-null  object \n",
      " 17  crm_CDI_PageView_Gewijzigd_door     184191 non-null  object \n",
      " 18  crm_CDI_PageView_Gewijzigd_op       184191 non-null  object \n",
      " 19  crm_CDI_PageView_Status             184191 non-null  object \n",
      " 20  crm_CDI_PageView_Reden_van_status   184191 non-null  object \n",
      "dtypes: float64(2), object(19)\n",
      "memory usage: 29.5+ MB\n"
     ]
    }
   ],
   "source": [
    "df_pa = pd.read_csv(\"../Data/cdi pageviews.csv\")\n",
    "\n",
    "df_pa.drop('crm_CDI_PageView_Anonymous_Visitor', inplace=True, axis=1)\n",
    "df_pa.drop('crm_CDI_PageView_Url', inplace=True, axis=1)\n",
    "df_pa.drop_duplicates(keep='first', inplace=True)\n",
    "\n",
    "df_pa = df_pa[df_pa['crm_CDI_PageView_Contact'].isin(unique_contact)]\n",
    "df_pa = df_pa[df_pa['crm_CDI_PageView_Campaign'].isin(unique_campaign)]\n",
    "\n",
    "df_pa.to_csv(\"../Data/cdi pageviews.csv\", index=False)"
   ]
  },
  {
   "cell_type": "code",
   "execution_count": null,
   "metadata": {},
   "outputs": [
    {
     "name": "stderr",
     "output_type": "stream",
     "text": [
      "/tmp/ipykernel_10353/2342119710.py:1: DtypeWarning: Columns (4,19) have mixed types. Specify dtype option on import or set low_memory=False.\n",
      "  df_vi = pd.read_csv(\"../Data/CDI visits.csv\")\n"
     ]
    }
   ],
   "source": [
    "df_vi = pd.read_csv(\"../Data/CDI visits.csv\")\n",
    "\n",
    "# df_vi.drop(\"crm_CDI_Visit_Campagne_Code\", axis=1, inplace=True)\n",
    "df_vi.drop_duplicates(subset=[\"crm_CDI_Visit_Visit\",\"crm_CDI_Visit_Contact\" ], keep=\"first\", inplace=True)\n",
    "\n",
    "df_vi = df_vi[df_vi[\"crm_CDI_Visit_Contact\"].isin(unique_contact)]\n",
    "df_vi = df_vi[df_vi[\"crm_CDI_Visit_Email_Send\"].isin(unique_mail)]\n",
    "df_vi = df_vi[df_vi[\"crm_CDI_Visit_Campaign\"].isin(unique_campaign)]\n",
    "\n",
    "df_vi.to_csv(\"../Data/CDI visits.csv\", index=False)"
   ]
  },
  {
   "cell_type": "code",
   "execution_count": null,
   "metadata": {},
   "outputs": [],
   "source": [
    "df_con = df_con[df_con['crm_Contact_Account'].isin(unique_account)]\n",
    "df_con = df_con[df_con['crm_Contact_Persoon_ID'].isin(unique_persoon)]\n",
    "df_con.drop_duplicates('crm_Contact_Contactpersoon', keep='first', inplace=True)\n",
    "\n",
    "df_con.to_csv('../Data/Contact.csv', index=False)"
   ]
  },
  {
   "cell_type": "code",
   "execution_count": null,
   "metadata": {},
   "outputs": [],
   "source": [
    "df_gc = pd.read_csv('../Data/Afspraak_account_gelinkt_cleaned.csv')\n",
    "\n",
    "df_gc = df_gc[df_gc['crm_Afspraak_ACCOUNT_GELINKT_Afspraak'].isin(unique_afspraak)]\n",
    "df_gc.drop_duplicates('crm_Afspraak_ACCOUNT_GELINKT_Afspraak',keep='first', inplace=True)\n",
    "\n",
    "df_gc.to_csv('../Data/Afspraak_account_gelinkt_cleaned.csv', index=False)"
   ]
  },
  {
   "cell_type": "code",
   "execution_count": null,
   "metadata": {},
   "outputs": [],
   "source": [
    "df_cc = pd.read_csv(\"../Data/Afspraak betreft contact_cleaned.csv\")\n",
    "\n",
    "df_cc = df_cc[df_cc['crm_Afspraak_BETREFT_CONTACTFICHE_Betreft_id'].isin(unique_contact)]\n",
    "df_cc = df_cc[df_cc['crm_Afspraak_BETREFT_CONTACTFICHE_Afspraak'].isin(unique_afspraak)]\n",
    "df_cc.drop_duplicates(['crm_Afspraak_BETREFT_CONTACTFICHE_Betreft_id', 'crm_Afspraak_BETREFT_CONTACTFICHE_Afspraak'],keep='first' ,inplace=True )\n",
    "\n",
    "df_cc.to_csv(\"../Data/Afspraak betreft contact_cleaned.csv\", index=False)"
   ]
  },
  {
   "cell_type": "code",
   "execution_count": null,
   "metadata": {},
   "outputs": [],
   "source": [
    "df_vc = pd.read_csv(\"../Data/Activiteit vereist contact.csv\")\n",
    "\n",
    "df_vc = df_vc[df_vc[\"crm_ActiviteitVereistContact_ActivityId\"].isin(unique_afspraak)]\n",
    "df_vc = df_vc[df_vc[\"crm_ActiviteitVereistContact_ReqAttendee\"].isin(unique_contact)]\n",
    "df_vc.drop_duplicates(['crm_ActiviteitVereistContact_ReqAttendee', 'crm_ActiviteitVereistContact_ActivityId'], keep=\"first\", inplace=True)\n",
    "\n",
    "df_vc.to_csv(\"../Data/Activiteit vereist contact.csv\", index=False)"
   ]
  },
  {
   "cell_type": "code",
   "execution_count": null,
   "metadata": {},
   "outputs": [],
   "source": [
    "df_acc = pd.read_csv(\"../Data/Afspraak betreft account_cleaned.csv\")\n",
    "\n",
    "df_acc = df_acc[df_acc['crm_Afspraak_BETREFT_ACCOUNT_Betreft_id'].isin(unique_account)]\n",
    "df_acc = df_acc[df_acc['crm_Afspraak_BETREFT_ACCOUNT_Afspraak'].isin(unique_afspraak)]\n",
    "df_acc.drop_duplicates(keep='first', inplace=True)\n",
    "\n",
    "df_acc.to_csv(\"../Data/Afspraak betreft account_cleaned.csv\", index=False)"
   ]
  },
  {
   "cell_type": "code",
   "execution_count": null,
   "metadata": {},
   "outputs": [],
   "source": [
    "df_cf = pd.read_csv(\"../Data/Contact functie.csv\")\n",
    "\n",
    "df_cf = df_cf[df_cf['crm_ContactFunctie_Functie'].isin(unique_functie)]\n",
    "df_cf = df_cf[df_cf['crm_ContactFunctie_Contactpersoon'].isin(unique_contact)]\n",
    "df_cf.drop_duplicates(keep='first', inplace=True)\n",
    "\n",
    "df_cf.to_csv(\"../Data/Contact functie.csv\", index=False)"
   ]
  },
  {
   "cell_type": "code",
   "execution_count": null,
   "metadata": {},
   "outputs": [],
   "source": [
    "df_sent = pd.read_csv(\"../Data/CDI sent email clicks.csv\")\n",
    "\n",
    "df_sent = df_sent[df_sent['crm_CDI_SentEmail_kliks_Contact'].isin(unique_contact)]\n",
    "df_sent = df_sent[df_sent['crm_CDI_SentEmail_kliks_E_mail_versturen'].isin(unique_mail)]\n",
    "df_sent.drop_duplicates(keep='first', inplace=True)\n",
    "\n",
    "df_sent.to_csv(\"../Data/CDI sent email clicks.csv\", index=False)"
   ]
  },
  {
   "cell_type": "code",
   "execution_count": null,
   "metadata": {},
   "outputs": [],
   "source": [
    "df_info = pd.read_csv(\"../Data/Info en klachten.csv\")\n",
    "\n",
    "df_info = df_info[df_info[\"crm_Info_en_Klachten_Eigenaar\"].isin(unique_gebruiker)]\n",
    "df_info = df_info[df_info[\"crm_Info_en_Klachten_Account\"].isin(unique_account)]\n",
    "df_info.drop_duplicates(keep=\"first\", inplace=True)\n",
    "\n",
    "df_info.to_csv(\"../Data/Info en klachten.csv\", index=False)"
   ]
  },
  {
   "cell_type": "code",
   "execution_count": null,
   "metadata": {},
   "outputs": [],
   "source": [
    "df_lid = pd.read_csv(\"../Data/Lidmaatschap.csv\")\n",
    "\n",
    "df_lid = df_lid[df_lid[\"crm_Lidmaatschap_Onderneming\"].isin(unique_account)]\n",
    "df_lid.drop_duplicates(keep=\"first\", inplace=True)\n",
    "\n",
    "df_lid.to_csv(\"../Data/Lidmaatschap.csv\", index=False)"
   ]
  },
  {
   "cell_type": "code",
   "execution_count": null,
   "metadata": {},
   "outputs": [],
   "source": [
    "df_ses = df_ses[df_ses[\"crm_Sessie_Campagne\"].isin(unique_campaign)]\n",
    "df_ses.drop_duplicates(keep='first', inplace=True)\n",
    "\n",
    "df_ses.to_csv(\"../Data/Sessie.csv\", index=False)"
   ]
  },
  {
   "cell_type": "code",
   "execution_count": null,
   "metadata": {},
   "outputs": [],
   "source": [
    "df_ses_in = pd.read_csv(\"../Data/Sessie inschrijving.csv\")\n",
    "\n",
    "df_ses_in = df_ses_in[df_ses_in[\"crm_SessieInschrijving_Sessie\"].isin(unique_sessie)]\n",
    "df_ses_in = df_ses_in[df_ses_in[\"crm_SessieInschrijving_Inschrijving\"].isin(unique_inschrijving)]\n",
    "df_ses_in.drop_duplicates(keep=\"first\", inplace=True)\n",
    "\n",
    "df_ses_in.to_csv(\"../Data/Sessie inschrijving.csv\", index=False)"
   ]
  }
 ],
 "metadata": {
  "kernelspec": {
   "display_name": "Python 3",
   "language": "python",
   "name": "python3"
  },
  "language_info": {
   "codemirror_mode": {
    "name": "ipython",
    "version": 3
   },
   "file_extension": ".py",
   "mimetype": "text/x-python",
   "name": "python",
   "nbconvert_exporter": "python",
   "pygments_lexer": "ipython3",
   "version": "3.10.12"
  }
 },
 "nbformat": 4,
 "nbformat_minor": 2
}
