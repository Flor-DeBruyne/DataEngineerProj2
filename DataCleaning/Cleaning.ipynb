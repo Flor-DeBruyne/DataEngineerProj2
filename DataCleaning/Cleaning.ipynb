{
 "cells": [
  {
   "cell_type": "code",
   "execution_count": null,
   "metadata": {},
   "outputs": [],
   "source": [
    "import pandas as pd\n",
    "\n",
    "csv_dir = \"../Data/Account_financiële_data.csv\"\n",
    "df_fd = pd.read_csv(csv_dir)\n",
    "df_ac = pd.read_csv('../Data/Account.csv')\n",
    "# df_ac.info()\n",
    "\n",
    "unique_account_ids = set(df_ac['crm_Account_Account'])\n",
    "\n",
    "df_fd = df_fd[df_fd['crm_FinancieleData_OndernemingID'].isin(unique_account_ids)]\n",
    "df_fd = df_fd.drop_duplicates(subset=['crm_FinancieleData_OndernemingID', 'crm_FinancieleData_Boekjaar'], keep='first')\n",
    "df_fd.to_csv(csv_dir, index=False)\n"
   ]
  },
  {
   "cell_type": "code",
   "execution_count": 22,
   "metadata": {},
   "outputs": [
    {
     "name": "stdout",
     "output_type": "stream",
     "text": [
      "crm_Inschrijving_Aanwezig_Afwezig\n",
      "Aanwezig    367948\n",
      "Afwezig       7000\n",
      "Name: count, dtype: int64\n"
     ]
    }
   ],
   "source": [
    "import pandas as pd\n",
    "\n",
    "csv_dir = \"../Data/Inschrijving.csv\"\n",
    "df_in = pd.read_csv(csv_dir)\n",
    "\n",
    "print(df_in['crm_Inschrijving_Aanwezig_Afwezig'].value_counts())\n",
    "\n",
    "df_con = pd.read_csv('../Data/Contact.csv')\n",
    "unique_contact = set(df_con['crm_Contact_Contactpersoon'])\n",
    "\n",
    "df_in = df_in[df_in['crm_Inschrijving_Contactfiche'].isin(unique_contact)]\n",
    "df_in.drop_duplicates(subset='crm_Inschrijving_Inschrijving', inplace=True, keep='first')\n",
    "\n",
    "df_in['crm_Inschrijving_Aanwezig_Afwezig'].value_counts()\n",
    "df_in.to_csv(csv_dir, index=False)\n",
    "\n"
   ]
  },
  {
   "cell_type": "code",
   "execution_count": 38,
   "metadata": {},
   "outputs": [
    {
     "name": "stdout",
     "output_type": "stream",
     "text": [
      "<class 'pandas.core.frame.DataFrame'>\n",
      "RangeIndex: 1189773 entries, 0 to 1189772\n",
      "Data columns (total 6 columns):\n",
      " #   Column                       Non-Null Count    Dtype \n",
      "---  ------                       --------------    ----- \n",
      " 0   crm_Contact_Contactpersoon   1189773 non-null  object\n",
      " 1   crm_Contact_Account          1189773 non-null  object\n",
      " 2   crm_Contact_Functietitel     1159328 non-null  object\n",
      " 3   crm_Contact_Persoon_ID       1189773 non-null  object\n",
      " 4   crm_Contact_Status           1189773 non-null  object\n",
      " 5   crm_Contact_Voka_medewerker  1189773 non-null  int64 \n",
      "dtypes: int64(1), object(5)\n",
      "memory usage: 54.5+ MB\n",
      "None\n",
      "1189773\n",
      "1189773\n"
     ]
    }
   ],
   "source": [
    "df_con = pd.read_csv('../Data/Contact.csv')\n",
    "\n",
    "df_con['crm_Contact_Voka_medewerker'].value_counts()\n",
    "print(df_con.info())\n",
    "print(len(unique_contact))\n",
    "df_con.drop_duplicates('crm_Contact_Contactpersoon', keep='first', inplace=True)\n",
    "print(len(unique_contact))\n",
    "# print('-'*50)\n",
    "df_con.to_csv('../Data/Contact.csv', index=False)"
   ]
  },
  {
   "cell_type": "code",
   "execution_count": null,
   "metadata": {},
   "outputs": [],
   "source": [
    "df_con = pd.read_csv('../Data/Contact.csv')\n",
    "# df_con.info()\n",
    "unique_contact = set(df_con['crm_Contact_Contactpersoon'])\n",
    "\n",
    "csv_dir = '../Data/Afspraak_account_gelinkt_cleaned.csv'\n",
    "df_gc = pd.read_csv(csv_dir)\n",
    "df_all = pd.read_csv('../Data/Afspraak_alle.csv')\n",
    "df_gc.drop_duplicates('crm_Afspraak_ACCOUNT_GELINKT_Afspraak', inplace=True)\n",
    "\n",
    "unique_afspraak = set(df_all['crm_Afspraak_ALLE_Afspraak'])\n",
    "\n",
    "df_gc = df_gc[df_gc['crm_Afspraak_ACCOUNT_GELINKT_Afspraak'].isin(unique_afspraak)]\n",
    "# df_gc.info()\n",
    "df_gc.to_csv(csv_dir, index=False)\n"
   ]
  },
  {
   "cell_type": "code",
   "execution_count": null,
   "metadata": {},
   "outputs": [],
   "source": [
    "csv_dir = \"../Data/Afspraak betreft contact_cleaned.csv\"\n",
    "df_cc = pd.read_csv(csv_dir)\n",
    "\n",
    "df_cc = df_cc[df_cc['crm_Afspraak_BETREFT_CONTACTFICHE_Betreft_id'].isin(unique_contact)]\n",
    "df_cc = df_cc[df_cc['crm_Afspraak_BETREFT_CONTACTFICHE_Afspraak'].isin(unique_afspraak)]\n",
    "\n",
    "df_cc.drop_duplicates(['crm_Afspraak_BETREFT_CONTACTFICHE_Betreft_id', 'crm_Afspraak_BETREFT_CONTACTFICHE_Afspraak'],\n",
    "                      inplace=True,\n",
    "                      keep='first')\n",
    "\n",
    "df_cc.info()\n",
    "\n",
    "df_cc.to_csv(csv_dir, index=False)"
   ]
  },
  {
   "cell_type": "code",
   "execution_count": null,
   "metadata": {},
   "outputs": [],
   "source": [
    "df_cam = pd.read_csv('../Data/Campagne.csv')\n",
    "unique_campaign = set(df_cam['crm_Campagne_Campagne'])"
   ]
  },
  {
   "cell_type": "code",
   "execution_count": null,
   "metadata": {},
   "outputs": [],
   "source": [
    "csv_dir = \"../Data/cdi_pageviews.csv\"\n",
    "df_pa = pd.read_csv(csv_dir, delimiter=\";\")\n",
    "\n",
    "\n",
    "df_pa.drop('crm CDI_PageView[Anonymous Visitor]', inplace=True, axis=1)\n",
    "df_pa.drop('crm CDI_PageView[Url]', inplace=True, axis=1)\n",
    "\n",
    "df_pa = df_pa[df_pa['crm CDI_PageView[Contact]'].isin(unique_contact)]\n",
    "df_pa = df_pa[df_pa['crm CDI_PageView[Campaign]'].isin(unique_campaign)]\n",
    "\n",
    "# df_pa.info()\n",
    "\n",
    "df_pa.to_csv(csv_dir, index=False)"
   ]
  },
  {
   "cell_type": "code",
   "execution_count": 6,
   "metadata": {},
   "outputs": [],
   "source": [
    "import pandas as pd\n",
    "csv_dir = \"../Data/CDI visits.csv\"\n",
    "df_vi = pd.read_csv(csv_dir)\n",
    "\n",
    "df_mail = pd.read_csv(\"../Data/CDI mailing.csv\")\n",
    "unique_mail = set(df_mail[\"crm_CDI_Mailing_Mailing\"])\n",
    "\n",
    "df_con = pd.read_csv('../Data/Contact.csv')\n",
    "unique_contact = set(df_con['crm_Contact_Contactpersoon'])\n",
    "\n",
    "df_cam = pd.read_csv('../Data/Campagne.csv')\n",
    "unique_campaign = set(df_cam['crm_Campagne_Campagne'])\n",
    "\n",
    "# df_vi.drop(\"crm_CDI_Visit_Campagne_Code\", axis=1, inplace=True)\n",
    "df_vi.drop_duplicates(\"crm_CDI_Visit_Visit\", keep=\"first\", inplace=True)\n",
    "df_vi.drop_duplicates(\"crm_CDI_Visit_Contact\", keep=\"first\", inplace=True)\n",
    "\n",
    "\n",
    "df_vi = df_vi[df_vi[\"crm_CDI_Visit_Contact\"].isin(unique_contact)]\n",
    "df_vi = df_vi[df_vi[\"crm_CDI_Visit_Email_Send\"].isin(unique_mail)]\n",
    "df_vi = df_vi[df_vi[\"crm_CDI_Visit_Campaign\"].isin(unique_campaign)]\n",
    "\n",
    "\n",
    "\n",
    "df_vi.to_csv(csv_dir, index=False)"
   ]
  },
  {
   "cell_type": "code",
   "execution_count": null,
   "metadata": {},
   "outputs": [],
   "source": [
    "df_per = pd.read_csv('../Data/Persoon.csv')\n",
    "unique_persoon = set(df_per[\"crm_Persoon_persoon\"])\n",
    "\n",
    "df_con = df_con[df_con['crm_Contact_Account'].isin(unique_account_ids)]\n",
    "df_con = df_con[df_con['crm_Contact_Persoon_ID'].isin(unique_persoon)]\n",
    "df_con.drop_duplicates('crm_Contact_Contactpersoon', keep='first', inplace=True)\n",
    "\n",
    "df_con.info()\n",
    "df_con.to_csv('../Data/Contact.csv', index=False)"
   ]
  },
  {
   "cell_type": "code",
   "execution_count": null,
   "metadata": {},
   "outputs": [],
   "source": [
    "csv_dir = \"../Data/Activiteit_vereist_contact.csv\"\n",
    "df_vc = pd.read_csv(csv_dir)\n",
    "\n",
    "df_vc = df_vc[df_vc[\"crm_ActiviteitVereistContact_ActivityId\"].isin(unique_afspraak)]\n",
    "df_vc = df_vc[df_vc[\"crm_ActiviteitVereistContact_ReqAttendee\"].isin(unique_contact)]\n",
    "\n",
    "df_vc.drop_duplicates(['crm_ActiviteitVereistContact_ReqAttendee', 'crm_ActiviteitVereistContact_ActivityId'], keep=\"first\", inplace=True)\n",
    "\n",
    "# df_vc.info()\n",
    "df_vc.to_csv(csv_dir, index=False)"
   ]
  },
  {
   "cell_type": "code",
   "execution_count": null,
   "metadata": {},
   "outputs": [],
   "source": [
    "csv_dir = \"../Data/Afspraak betreft account_cleaned.csv\"\n",
    "df_acc = pd.read_csv(csv_dir)\n",
    "\n",
    "df_acc = df_acc[df_acc['crm_Afspraak_BETREFT_ACCOUNT_Betreft_id'].isin(unique_account_ids)]\n",
    "df_acc = df_acc[df_acc['crm_Afspraak_BETREFT_ACCOUNT_Afspraak'].isin(unique_afspraak)]\n",
    "\n",
    "# df_acc.info()\n",
    "df_acc.to_csv(csv_dir, index=False)"
   ]
  },
  {
   "cell_type": "code",
   "execution_count": null,
   "metadata": {},
   "outputs": [],
   "source": [
    "csv_dir = \"../Data/Contact_functie.csv\"\n",
    "df_func = pd.read_csv(\"../Data/Functie.csv\")\n",
    "df_cf = pd.read_csv(csv_dir)\n",
    "\n",
    "unique_functie = set(df_func[\"crm_Functie_Functie\"])\n",
    "\n",
    "df_cf = df_cf[df_cf['crm_ContactFunctie_Functie'].isin(unique_functie)]\n",
    "df_cf = df_cf[df_cf['crm_ContactFunctie_Contactpersoon'].isin(unique_contact)]\n",
    "\n",
    "# df_cf.info()\n",
    "\n",
    "df_cf.to_csv(csv_dir, index=False)"
   ]
  },
  {
   "cell_type": "code",
   "execution_count": null,
   "metadata": {},
   "outputs": [],
   "source": [
    "csv_dir = \"../Data/CDI_sent_email_clicks.csv\"\n",
    "df_sent = pd.read_csv(csv_dir)\n",
    "\n",
    "df_sent = df_sent[df_sent['crm_CDI_SentEmail_kliks_Contact'].isin(unique_contact)]\n",
    "df_sent = df_sent[df_sent['crm_CDI_SentEmail_kliks_E_mail_versturen'].isin(unique_mail)]\n",
    "\n",
    "\n",
    "# df_sent.info()\n",
    "df_sent.to_csv(csv_dir, index=False)"
   ]
  },
  {
   "cell_type": "code",
   "execution_count": null,
   "metadata": {},
   "outputs": [],
   "source": [
    "csv_dir = \"../Data/Info_en_klachten.csv\"\n",
    "df_info = pd.read_csv(csv_dir)\n",
    "df_geb = pd.read_csv(\"../Data/Gebruikers.csv\")\n",
    "unique_gebruiker = set(df_geb['crm_Gebruikers_CRM_User_ID'])\n",
    "\n",
    "df_info = df_info[df_info[\"crm_Info_en_Klachten_Eigenaar\"].isin(unique_gebruiker)]\n",
    "df_info = df_info[df_info[\"crm_Info_en_Klachten_Account\"].isin(unique_account_ids)]\n",
    "\n",
    "# df_info.info()\n",
    "\n",
    "df_info.to_csv(csv_dir, index=False)"
   ]
  },
  {
   "cell_type": "code",
   "execution_count": null,
   "metadata": {},
   "outputs": [],
   "source": [
    "csv_dir = \"../Data/Inschrijvingen.csv\"\n",
    "df_insc = pd.read_csv(csv_dir)\n",
    "unique_inschrijving = set(df_insc[\"crm_Inschrijving_Inschrijving\"])\n",
    "\n",
    "df_insc = df_insc[df_insc[\"crm_Inschrijving_Contactfiche\"].isin(unique_contact)]\n",
    "df_insc = df_insc[df_insc[\"crm_Inschrijving_Campagne\"].isin(unique_campaign)]\n",
    "\n",
    "# df_insc.info()\n",
    "\n",
    "df_insc.to_csv(csv_dir, index=False)"
   ]
  },
  {
   "cell_type": "code",
   "execution_count": null,
   "metadata": {},
   "outputs": [],
   "source": [
    "csv_dir = \"../Data/Lidmaatschap.csv\"\n",
    "df_lid = pd.read_csv(csv_dir)\n",
    "\n",
    "df_lid = df_lid[df_lid[\"crm_Lidmaatschap_Onderneming\"].isin(unique_account_ids)]\n",
    "\n",
    "# df_lid.info()\n",
    "\n",
    "df_lid.to_csv(csv_dir, index=False)"
   ]
  },
  {
   "cell_type": "code",
   "execution_count": null,
   "metadata": {},
   "outputs": [],
   "source": [
    "csv_dir = \"../Data/Sessie.csv\"\n",
    "df_ses = pd.read_csv(csv_dir)\n",
    "unique_sessie = set(df_ses[\"crm_Sessie_Sessie\"])\n",
    "\n",
    "df_ses = df_ses[df_ses[\"crm_Sessie_Campagne\"].isin(unique_campaign)]\n",
    "\n",
    "# df_ses.info()\n",
    "\n",
    "df_ses.to_csv(csv_dir, index=False)"
   ]
  },
  {
   "cell_type": "code",
   "execution_count": null,
   "metadata": {},
   "outputs": [],
   "source": [
    "csv_dir = \"../Data/Sessie_inschrijving.csv\"\n",
    "df_ses_in = pd.read_csv(csv_dir)\n",
    "\n",
    "df_ses_in = df_ses_in[df_ses_in[\"crm_SessieInschrijving_Sessie\"].isin(unique_sessie)]\n",
    "df_ses_in = df_ses_in[df_ses_in[\"crm_SessieInschrijving_Inschrijving\"].isin(unique_inschrijving)]\n",
    "\n",
    "# df_ses_in.info()\n",
    "\n",
    "df_ses_in.to_csv(csv_dir, index=False)"
   ]
  }
 ],
 "metadata": {
  "kernelspec": {
   "display_name": "Python 3",
   "language": "python",
   "name": "python3"
  },
  "language_info": {
   "codemirror_mode": {
    "name": "ipython",
    "version": 3
   },
   "file_extension": ".py",
   "mimetype": "text/x-python",
   "name": "python",
   "nbconvert_exporter": "python",
   "pygments_lexer": "ipython3",
   "version": "3.10.12"
  }
 },
 "nbformat": 4,
 "nbformat_minor": 2
}
