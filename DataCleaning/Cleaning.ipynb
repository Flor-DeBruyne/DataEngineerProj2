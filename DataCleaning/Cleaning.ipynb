{
 "cells": [
  {
   "cell_type": "code",
   "execution_count": 4,
   "metadata": {},
   "outputs": [],
   "source": [
    "import pandas as pd\n",
    "\n",
    "df_ac = pd.read_csv('../Data/Account.csv')\n",
    "unique_account = set(df_ac['crm_Account_Account'])\n",
    "\n",
    "df_con = pd.read_csv('../Data/Contact.csv')\n",
    "unique_contact = set(df_con['crm_Contact_Contactpersoon'])\n",
    "\n",
    "df_all = pd.read_csv('../Data/Afspraak alle.csv')\n",
    "unique_afspraak = set(df_all['crm_Afspraak_ALLE_Afspraak'])\n",
    "\n",
    "df_cam = pd.read_csv('../Data/Campagne.csv')\n",
    "unique_campaign = set(df_cam['crm_Campagne_Campagne'])\n",
    "\n",
    "df_mail = pd.read_csv(\"../Data/CDI mailing.csv\")\n",
    "unique_mail = set(df_mail[\"crm_CDI_Mailing_Mailing\"])\n",
    "\n",
    "df_per = pd.read_csv('../Data/Persoon.csv')\n",
    "unique_persoon = set(df_per[\"crm_Persoon_persoon\"])\n",
    "\n",
    "df_func = pd.read_csv(\"../Data/Functie.csv\")\n",
    "unique_functie = set(df_func[\"crm_Functie_Functie\"])\n",
    "\n",
    "df_geb = pd.read_csv(\"../Data/Gebruikers.csv\")\n",
    "unique_gebruiker = set(df_geb['crm_Gebruikers_CRM_User_ID'])\n",
    "\n",
    "df_insc = pd.read_csv(\"../Data/Inschrijving.csv\")\n",
    "unique_inschrijving = set(df_insc[\"crm_Inschrijving_Inschrijving\"])\n",
    "\n",
    "df_ses = pd.read_csv(\"../Data/Sessie.csv\")\n",
    "unique_sessie = set(df_ses[\"crm_Sessie_Sessie\"])\n"
   ]
  },
  {
   "cell_type": "code",
   "execution_count": 6,
   "metadata": {},
   "outputs": [],
   "source": [
    "df_fd = pd.read_csv(\"../Data/Account financiële data.csv\")\n",
    "df_fd = df_fd[df_fd['crm_FinancieleData_OndernemingID'].isin(unique_account)]\n",
    "df_fd = df_fd.drop_duplicates(subset=['crm_FinancieleData_OndernemingID', 'crm_FinancieleData_Boekjaar'], keep='first')\n",
    "\n",
    "df_fd.to_csv(\"../Data/Account financiële data.csv\", index=False)"
   ]
  },
  {
   "cell_type": "code",
   "execution_count": 12,
   "metadata": {},
   "outputs": [],
   "source": [
    "df_insc = df_insc[df_insc['crm_Inschrijving_Contactfiche'].isin(unique_contact)]\n",
    "df_insc = df_insc[df_insc[\"crm_Inschrijving_Bron\"].isin(unique_campaign)]\n",
    "df_insc.drop_duplicates(subset='crm_Inschrijving_Inschrijving', inplace=True, keep='first')\n",
    "\n",
    "df_insc.to_csv(\"../Data/Inschrijving.csv\", index=False)"
   ]
  },
  {
   "cell_type": "code",
   "execution_count": 15,
   "metadata": {},
   "outputs": [
    {
     "ename": "ParserError",
     "evalue": "Error tokenizing data. C error: Expected 1 fields in line 10080, saw 2\n",
     "output_type": "error",
     "traceback": [
      "\u001b[0;31m---------------------------------------------------------------------------\u001b[0m",
      "\u001b[0;31mParserError\u001b[0m                               Traceback (most recent call last)",
      "\u001b[1;32m/home/flor/Workspace/DEP2/DataEngineerProj2/DataCleaning/Cleaning.ipynb Cell 4\u001b[0m line \u001b[0;36m1\n\u001b[0;32m----> <a href='vscode-notebook-cell:/home/flor/Workspace/DEP2/DataEngineerProj2/DataCleaning/Cleaning.ipynb#W3sZmlsZQ%3D%3D?line=0'>1</a>\u001b[0m df_pa \u001b[39m=\u001b[39m pd\u001b[39m.\u001b[39;49mread_csv(\u001b[39m\"\u001b[39;49m\u001b[39m../Data/cdi pageviews.csv\u001b[39;49m\u001b[39m\"\u001b[39;49m, delimiter\u001b[39m=\u001b[39;49m\u001b[39m\"\u001b[39;49m\u001b[39m;\u001b[39;49m\u001b[39m\"\u001b[39;49m)\n\u001b[1;32m      <a href='vscode-notebook-cell:/home/flor/Workspace/DEP2/DataEngineerProj2/DataCleaning/Cleaning.ipynb#W3sZmlsZQ%3D%3D?line=2'>3</a>\u001b[0m df_pa\u001b[39m.\u001b[39mdrop(\u001b[39m'\u001b[39m\u001b[39mcrm CDI_PageView[Anonymous Visitor]\u001b[39m\u001b[39m'\u001b[39m, inplace\u001b[39m=\u001b[39m\u001b[39mTrue\u001b[39;00m, axis\u001b[39m=\u001b[39m\u001b[39m1\u001b[39m)\n\u001b[1;32m      <a href='vscode-notebook-cell:/home/flor/Workspace/DEP2/DataEngineerProj2/DataCleaning/Cleaning.ipynb#W3sZmlsZQ%3D%3D?line=3'>4</a>\u001b[0m df_pa\u001b[39m.\u001b[39mdrop(\u001b[39m'\u001b[39m\u001b[39mcrm CDI_PageView[Url]\u001b[39m\u001b[39m'\u001b[39m, inplace\u001b[39m=\u001b[39m\u001b[39mTrue\u001b[39;00m, axis\u001b[39m=\u001b[39m\u001b[39m1\u001b[39m)\n",
      "File \u001b[0;32m~/.local/lib/python3.10/site-packages/pandas/io/parsers/readers.py:948\u001b[0m, in \u001b[0;36mread_csv\u001b[0;34m(filepath_or_buffer, sep, delimiter, header, names, index_col, usecols, dtype, engine, converters, true_values, false_values, skipinitialspace, skiprows, skipfooter, nrows, na_values, keep_default_na, na_filter, verbose, skip_blank_lines, parse_dates, infer_datetime_format, keep_date_col, date_parser, date_format, dayfirst, cache_dates, iterator, chunksize, compression, thousands, decimal, lineterminator, quotechar, quoting, doublequote, escapechar, comment, encoding, encoding_errors, dialect, on_bad_lines, delim_whitespace, low_memory, memory_map, float_precision, storage_options, dtype_backend)\u001b[0m\n\u001b[1;32m    935\u001b[0m kwds_defaults \u001b[39m=\u001b[39m _refine_defaults_read(\n\u001b[1;32m    936\u001b[0m     dialect,\n\u001b[1;32m    937\u001b[0m     delimiter,\n\u001b[0;32m   (...)\u001b[0m\n\u001b[1;32m    944\u001b[0m     dtype_backend\u001b[39m=\u001b[39mdtype_backend,\n\u001b[1;32m    945\u001b[0m )\n\u001b[1;32m    946\u001b[0m kwds\u001b[39m.\u001b[39mupdate(kwds_defaults)\n\u001b[0;32m--> 948\u001b[0m \u001b[39mreturn\u001b[39;00m _read(filepath_or_buffer, kwds)\n",
      "File \u001b[0;32m~/.local/lib/python3.10/site-packages/pandas/io/parsers/readers.py:617\u001b[0m, in \u001b[0;36m_read\u001b[0;34m(filepath_or_buffer, kwds)\u001b[0m\n\u001b[1;32m    614\u001b[0m     \u001b[39mreturn\u001b[39;00m parser\n\u001b[1;32m    616\u001b[0m \u001b[39mwith\u001b[39;00m parser:\n\u001b[0;32m--> 617\u001b[0m     \u001b[39mreturn\u001b[39;00m parser\u001b[39m.\u001b[39;49mread(nrows)\n",
      "File \u001b[0;32m~/.local/lib/python3.10/site-packages/pandas/io/parsers/readers.py:1748\u001b[0m, in \u001b[0;36mTextFileReader.read\u001b[0;34m(self, nrows)\u001b[0m\n\u001b[1;32m   1741\u001b[0m nrows \u001b[39m=\u001b[39m validate_integer(\u001b[39m\"\u001b[39m\u001b[39mnrows\u001b[39m\u001b[39m\"\u001b[39m, nrows)\n\u001b[1;32m   1742\u001b[0m \u001b[39mtry\u001b[39;00m:\n\u001b[1;32m   1743\u001b[0m     \u001b[39m# error: \"ParserBase\" has no attribute \"read\"\u001b[39;00m\n\u001b[1;32m   1744\u001b[0m     (\n\u001b[1;32m   1745\u001b[0m         index,\n\u001b[1;32m   1746\u001b[0m         columns,\n\u001b[1;32m   1747\u001b[0m         col_dict,\n\u001b[0;32m-> 1748\u001b[0m     ) \u001b[39m=\u001b[39m \u001b[39mself\u001b[39;49m\u001b[39m.\u001b[39;49m_engine\u001b[39m.\u001b[39;49mread(  \u001b[39m# type: ignore[attr-defined]\u001b[39;49;00m\n\u001b[1;32m   1749\u001b[0m         nrows\n\u001b[1;32m   1750\u001b[0m     )\n\u001b[1;32m   1751\u001b[0m \u001b[39mexcept\u001b[39;00m \u001b[39mException\u001b[39;00m:\n\u001b[1;32m   1752\u001b[0m     \u001b[39mself\u001b[39m\u001b[39m.\u001b[39mclose()\n",
      "File \u001b[0;32m~/.local/lib/python3.10/site-packages/pandas/io/parsers/c_parser_wrapper.py:234\u001b[0m, in \u001b[0;36mCParserWrapper.read\u001b[0;34m(self, nrows)\u001b[0m\n\u001b[1;32m    232\u001b[0m \u001b[39mtry\u001b[39;00m:\n\u001b[1;32m    233\u001b[0m     \u001b[39mif\u001b[39;00m \u001b[39mself\u001b[39m\u001b[39m.\u001b[39mlow_memory:\n\u001b[0;32m--> 234\u001b[0m         chunks \u001b[39m=\u001b[39m \u001b[39mself\u001b[39;49m\u001b[39m.\u001b[39;49m_reader\u001b[39m.\u001b[39;49mread_low_memory(nrows)\n\u001b[1;32m    235\u001b[0m         \u001b[39m# destructive to chunks\u001b[39;00m\n\u001b[1;32m    236\u001b[0m         data \u001b[39m=\u001b[39m _concatenate_chunks(chunks)\n",
      "File \u001b[0;32mparsers.pyx:843\u001b[0m, in \u001b[0;36mpandas._libs.parsers.TextReader.read_low_memory\u001b[0;34m()\u001b[0m\n",
      "File \u001b[0;32mparsers.pyx:904\u001b[0m, in \u001b[0;36mpandas._libs.parsers.TextReader._read_rows\u001b[0;34m()\u001b[0m\n",
      "File \u001b[0;32mparsers.pyx:879\u001b[0m, in \u001b[0;36mpandas._libs.parsers.TextReader._tokenize_rows\u001b[0;34m()\u001b[0m\n",
      "File \u001b[0;32mparsers.pyx:890\u001b[0m, in \u001b[0;36mpandas._libs.parsers.TextReader._check_tokenize_status\u001b[0;34m()\u001b[0m\n",
      "File \u001b[0;32mparsers.pyx:2058\u001b[0m, in \u001b[0;36mpandas._libs.parsers.raise_parser_error\u001b[0;34m()\u001b[0m\n",
      "\u001b[0;31mParserError\u001b[0m: Error tokenizing data. C error: Expected 1 fields in line 10080, saw 2\n"
     ]
    }
   ],
   "source": [
    "df_pa = pd.read_csv(\"../Data/cdi pageviews.csv\", delimiter=\";\")\n",
    "\n",
    "df_pa.drop('crm CDI_PageView[Anonymous Visitor]', inplace=True, axis=1)\n",
    "df_pa.drop('crm CDI_PageView[Url]', inplace=True, axis=1)\n",
    "df_pa.drop_duplicates(keep='first', inplace=True)\n",
    "\n",
    "df_pa = df_pa[df_pa['crm CDI_PageView[Contact]'].isin(unique_contact)]\n",
    "df_pa = df_pa[df_pa['crm CDI_PageView[Campaign]'].isin(unique_campaign)]\n",
    "\n",
    "df_pa.to_csv(\"../Data/cdi pageviews.csv\", index=False)"
   ]
  },
  {
   "cell_type": "code",
   "execution_count": 16,
   "metadata": {},
   "outputs": [
    {
     "name": "stderr",
     "output_type": "stream",
     "text": [
      "/tmp/ipykernel_20528/1316398967.py:1: DtypeWarning: Columns (4,19) have mixed types. Specify dtype option on import or set low_memory=False.\n",
      "  df_vi = pd.read_csv(\"../Data/CDI visits.csv\")\n"
     ]
    }
   ],
   "source": [
    "df_vi = pd.read_csv(\"../Data/CDI visits.csv\")\n",
    "\n",
    "df_vi.drop(\"crm_CDI_Visit_Campagne_Code\", axis=1, inplace=True)\n",
    "df_vi.drop_duplicates(subset=[\"crm_CDI_Visit_Visit\",\"crm_CDI_Visit_Contact\" ], keep=\"first\", inplace=True)\n",
    "\n",
    "df_vi = df_vi[df_vi[\"crm_CDI_Visit_Contact\"].isin(unique_contact)]\n",
    "df_vi = df_vi[df_vi[\"crm_CDI_Visit_Email_Send\"].isin(unique_mail)]\n",
    "df_vi = df_vi[df_vi[\"crm_CDI_Visit_Campaign\"].isin(unique_campaign)]\n",
    "\n",
    "df_vi.to_csv(\"../Data/CDI visits.csv\", index=False)"
   ]
  },
  {
   "cell_type": "code",
   "execution_count": 17,
   "metadata": {},
   "outputs": [],
   "source": [
    "df_con = df_con[df_con['crm_Contact_Account'].isin(unique_account)]\n",
    "df_con = df_con[df_con['crm_Contact_Persoon_ID'].isin(unique_persoon)]\n",
    "df_con.drop_duplicates('crm_Contact_Contactpersoon', keep='first', inplace=True)\n",
    "\n",
    "df_con.to_csv('../Data/Contact.csv', index=False)"
   ]
  },
  {
   "cell_type": "code",
   "execution_count": 18,
   "metadata": {},
   "outputs": [],
   "source": [
    "df_gc = pd.read_csv('../Data/Afspraak_account_gelinkt_cleaned.csv')\n",
    "\n",
    "df_gc = df_gc[df_gc['crm_Afspraak_ACCOUNT_GELINKT_Afspraak'].isin(unique_afspraak)]\n",
    "df_gc.drop_duplicates('crm_Afspraak_ACCOUNT_GELINKT_Afspraak',keep='first', inplace=True)\n",
    "\n",
    "df_gc.to_csv('../Data/Afspraak_account_gelinkt_cleaned.csv', index=False)"
   ]
  },
  {
   "cell_type": "code",
   "execution_count": 19,
   "metadata": {},
   "outputs": [],
   "source": [
    "df_cc = pd.read_csv(\"../Data/Afspraak betreft contact_cleaned.csv\")\n",
    "\n",
    "df_cc = df_cc[df_cc['crm_Afspraak_BETREFT_CONTACTFICHE_Betreft_id'].isin(unique_contact)]\n",
    "df_cc = df_cc[df_cc['crm_Afspraak_BETREFT_CONTACTFICHE_Afspraak'].isin(unique_afspraak)]\n",
    "df_cc.drop_duplicates(['crm_Afspraak_BETREFT_CONTACTFICHE_Betreft_id', 'crm_Afspraak_BETREFT_CONTACTFICHE_Afspraak'],keep='first' ,inplace=True )\n",
    "\n",
    "df_cc.to_csv(\"../Data/Afspraak betreft contact_cleaned.csv\", index=False)"
   ]
  },
  {
   "cell_type": "code",
   "execution_count": 21,
   "metadata": {},
   "outputs": [],
   "source": [
    "df_vc = pd.read_csv(\"../Data/Activiteit vereist contact.csv\")\n",
    "\n",
    "df_vc = df_vc[df_vc[\"crm_ActiviteitVereistContact_ActivityId\"].isin(unique_afspraak)]\n",
    "df_vc = df_vc[df_vc[\"crm_ActiviteitVereistContact_ReqAttendee\"].isin(unique_contact)]\n",
    "df_vc.drop_duplicates(['crm_ActiviteitVereistContact_ReqAttendee', 'crm_ActiviteitVereistContact_ActivityId'], keep=\"first\", inplace=True)\n",
    "\n",
    "df_vc.to_csv(\"../Data/Activiteit vereist contact.csv\", index=False)"
   ]
  },
  {
   "cell_type": "code",
   "execution_count": 22,
   "metadata": {},
   "outputs": [],
   "source": [
    "df_acc = pd.read_csv(\"../Data/Afspraak betreft account_cleaned.csv\")\n",
    "\n",
    "df_acc = df_acc[df_acc['crm_Afspraak_BETREFT_ACCOUNT_Betreft_id'].isin(unique_account)]\n",
    "df_acc = df_acc[df_acc['crm_Afspraak_BETREFT_ACCOUNT_Afspraak'].isin(unique_afspraak)]\n",
    "df_acc.drop_duplicates(keep='first', inplace=True)\n",
    "\n",
    "df_acc.to_csv(\"../Data/Afspraak betreft account_cleaned.csv\", index=False)"
   ]
  },
  {
   "cell_type": "code",
   "execution_count": 24,
   "metadata": {},
   "outputs": [],
   "source": [
    "df_cf = pd.read_csv(\"../Data/Contact functie.csv\")\n",
    "\n",
    "df_cf = df_cf[df_cf['crm_ContactFunctie_Functie'].isin(unique_functie)]\n",
    "df_cf = df_cf[df_cf['crm_ContactFunctie_Contactpersoon'].isin(unique_contact)]\n",
    "df_cf.drop_duplicates(keep='first', inplace=True)\n",
    "\n",
    "df_cf.to_csv(\"../Data/Contact functie.csv\", index=False)"
   ]
  },
  {
   "cell_type": "code",
   "execution_count": 26,
   "metadata": {},
   "outputs": [],
   "source": [
    "df_sent = pd.read_csv(\"../Data/CDI sent email clicks.csv\")\n",
    "\n",
    "df_sent = df_sent[df_sent['crm_CDI_SentEmail_kliks_Contact'].isin(unique_contact)]\n",
    "df_sent = df_sent[df_sent['crm_CDI_SentEmail_kliks_E_mail_versturen'].isin(unique_mail)]\n",
    "df_sent.drop_duplicates(keep='first', inplace=True)\n",
    "\n",
    "df_sent.to_csv(\"../Data/CDI sent email clicks.csv\", index=False)"
   ]
  },
  {
   "cell_type": "code",
   "execution_count": 28,
   "metadata": {},
   "outputs": [],
   "source": [
    "df_info = pd.read_csv(\"../Data/Info en klachten.csv\")\n",
    "\n",
    "df_info = df_info[df_info[\"crm_Info_en_Klachten_Eigenaar\"].isin(unique_gebruiker)]\n",
    "df_info = df_info[df_info[\"crm_Info_en_Klachten_Account\"].isin(unique_account)]\n",
    "df_info.drop_duplicates(keep=\"first\", inplace=True)\n",
    "\n",
    "df_info.to_csv(\"../Data/Info en klachten.csv\", index=False)"
   ]
  },
  {
   "cell_type": "code",
   "execution_count": 29,
   "metadata": {},
   "outputs": [],
   "source": [
    "df_lid = pd.read_csv(\"../Data/Lidmaatschap.csv\")\n",
    "\n",
    "df_lid = df_lid[df_lid[\"crm_Lidmaatschap_Onderneming\"].isin(unique_account)]\n",
    "df_lid.drop_duplicates(keep=\"first\", inplace=True)\n",
    "\n",
    "df_lid.to_csv(\"../Data/Lidmaatschap.csv\", index=False)"
   ]
  },
  {
   "cell_type": "code",
   "execution_count": 30,
   "metadata": {},
   "outputs": [],
   "source": [
    "df_ses = df_ses[df_ses[\"crm_Sessie_Campagne\"].isin(unique_campaign)]\n",
    "df_ses.drop_duplicates(keep='first', inplace=True)\n",
    "\n",
    "df_ses.to_csv(\"../Data/Sessie.csv\", index=False)"
   ]
  },
  {
   "cell_type": "code",
   "execution_count": 32,
   "metadata": {},
   "outputs": [],
   "source": [
    "df_ses_in = pd.read_csv(\"../Data/Sessie inschrijving.csv\")\n",
    "\n",
    "df_ses_in = df_ses_in[df_ses_in[\"crm_SessieInschrijving_Sessie\"].isin(unique_sessie)]\n",
    "df_ses_in = df_ses_in[df_ses_in[\"crm_SessieInschrijving_Inschrijving\"].isin(unique_inschrijving)]\n",
    "df_ses_in.drop_duplicates(keep=\"first\", inplace=True)\n",
    "\n",
    "df_ses_in.to_csv(\"../Data/Sessie inschrijving.csv\", index=False)"
   ]
  }
 ],
 "metadata": {
  "kernelspec": {
   "display_name": "Python 3",
   "language": "python",
   "name": "python3"
  },
  "language_info": {
   "codemirror_mode": {
    "name": "ipython",
    "version": 3
   },
   "file_extension": ".py",
   "mimetype": "text/x-python",
   "name": "python",
   "nbconvert_exporter": "python",
   "pygments_lexer": "ipython3",
   "version": "3.10.12"
  }
 },
 "nbformat": 4,
 "nbformat_minor": 2
}
