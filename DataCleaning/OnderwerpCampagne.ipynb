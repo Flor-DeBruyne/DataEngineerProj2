{
 "cells": [
  {
   "cell_type": "markdown",
   "metadata": {},
   "source": [
    "Teams:\n",
    "- JO: jong ondernemen (thematische opleidingen, trajecten, etc.)\n",
    "- DO: duurzaam ondernemen (thematische opleidingen, trajecten, etc.)\n",
    "- IN: innovatie en digitalisering (thematische opleidingen, trajecten, etc.)\n",
    "- IO: internationaal ondernemen (thematische opleidingen, trajecten, etc.)\n",
    "- AO: arbeidsmarkt en onderwijs (thematische opleidingen, trajecten, etc.)\n",
    "- EX: expert (thematische opleidingen, trajecten, etc.)\n",
    "- GR: Groei: biedt vooral **Plato (P)** en accelero aan\n",
    "- P: Plato\n",
    "- BB: Belangenbehartiging\n",
    "- CO: communicatie (verkoopt publiciteit, voert publiciteitscampagnes uit, etc.)\n",
    "- NW: netwerking (organiseert evenementen)\n",
    "- HA:  Haven (thematische opleidingen, trajecten, etc.)\n",
    "- MA: match (verkoopt lidmaatschappen)"
   ]
  },
  {
   "cell_type": "code",
   "execution_count": 1,
   "metadata": {},
   "outputs": [],
   "source": [
    "import pandas as pd \n",
    "from dotenv import load_dotenv\n",
    "import os\n",
    "from sqlalchemy import create_engine, MetaData, select\n",
    "\n",
    "\n",
    "load_dotenv()\n",
    "csv_dir =  '/home/flor/Workspace/DEP2/DataEngineerProj2/Data'\n",
    "SERVER = os.environ.get('SERVER')\n",
    "DATABASE = os.environ.get('DATAWAREHOUSE')\n",
    "UID = os.environ.get('USER')\n",
    "PWD = os.environ.get('PASSWORD')\n",
    "\n",
    "connection_string = f'mssql+pyodbc://{UID}:{PWD}@{SERVER}/{DATABASE}?driver=ODBC+Driver+17+for+SQL+Server'\n",
    "engine = create_engine(connection_string)\n",
    "\n",
    "metadata = MetaData()\n",
    "metadata.reflect(engine)"
   ]
  },
  {
   "cell_type": "code",
   "execution_count": 2,
   "metadata": {},
   "outputs": [
    {
     "data": {
      "text/plain": [
       "93"
      ]
     },
     "execution_count": 2,
     "metadata": {},
     "output_type": "execute_result"
    }
   ],
   "source": [
    "df_fact = pd.read_sql_table(table_name='FactCampagne', con=engine)\n",
    "\n",
    "Namen = df_fact['Naam_Campagne'].tolist()\n",
    "split = []\n",
    "\n",
    "for naam in Namen:\n",
    "    split_naam = naam.split('-')\n",
    "    split.append(split_naam)\n",
    "\n",
    "onderwerpen = []\n",
    "\n",
    "for item in split:\n",
    "    if len(item) > 1:\n",
    "        onderwerpen.append(item[1].upper())\n",
    "    else:\n",
    "        onderwerpen.append(None)  # or some default value if you prefer\n",
    "\n",
    "df_fact['Onderwerp_campagne'] = onderwerpen\n",
    "\n",
    "onderwerp_mapping = {\n",
    "    'JO': 'Jong Ondernemen',\n",
    "    'DO': 'Duurzaam Ondernemen',\n",
    "    'IN': 'Innovatie en Digitalisering',\n",
    "    'IO': 'Internationaal Ondernemen',\n",
    "    'AO': 'Arbeidsmarkt en Onderwijs',\n",
    "    'EX': 'Expert',\n",
    "    'GR': 'Groei',\n",
    "    'P': 'Plato',\n",
    "    'BB': 'Belangenbehartiging',\n",
    "    'CO': 'Communicatie',\n",
    "    'NW': 'Netwerking',\n",
    "    'HA': 'Haven',\n",
    "    'MA': 'MATCH',\n",
    "}\n",
    "\n",
    "# Maak een kopie van de oorspronkelijke kolom om de NaN-waarden te vervangen\n",
    "df_fact['Onderwerp_Oorspronkelijk'] = df_fact['Onderwerp_campagne']\n",
    "\n",
    "# Map naar afkortingen\n",
    "afkorting_mapping = {v: k for k, v in onderwerp_mapping.items()}\n",
    "df_fact['Onderwerp_campagne'] = df_fact['Onderwerp_campagne'].map(afkorting_mapping)\n",
    "\n",
    "# Map naar de volledige beschrijving en vervang NaN door de originele waarde\n",
    "df_fact['Onderwerp_campagne'] = df_fact['Onderwerp_campagne'].map(onderwerp_mapping).fillna(df_fact['Onderwerp_Oorspronkelijk'])\n",
    "\n",
    "# Drop de tijdelijke kolom\n",
    "df_fact = df_fact.drop('Onderwerp_Oorspronkelijk', axis=1)\n",
    "\n",
    "df_fact.to_sql('FactCampagne', con=engine, schema='dbo', if_exists='replace', index=False)\n"
   ]
  }
 ],
 "metadata": {
  "kernelspec": {
   "display_name": "Python 3",
   "language": "python",
   "name": "python3"
  },
  "language_info": {
   "codemirror_mode": {
    "name": "ipython",
    "version": 3
   },
   "file_extension": ".py",
   "mimetype": "text/x-python",
   "name": "python",
   "nbconvert_exporter": "python",
   "pygments_lexer": "ipython3",
   "version": "3.10.12"
  }
 },
 "nbformat": 4,
 "nbformat_minor": 2
}
